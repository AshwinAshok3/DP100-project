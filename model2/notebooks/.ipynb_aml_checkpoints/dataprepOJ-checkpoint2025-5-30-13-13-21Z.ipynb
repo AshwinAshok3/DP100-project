{
 "cells": [
  {
   "cell_type": "code",
   "execution_count": 1,
   "id": "5adc6d67-a1dc-4988-9f2b-de68a669ce60",
   "metadata": {},
   "outputs": [],
   "source": [
    "# importing libraries\n",
    "import glob\n",
    "import os\n",
    "import pandas as pd"
   ]
  },
  {
   "cell_type": "code",
   "execution_count": 25,
   "id": "047189f2-d40c-436b-877c-ff5ad5285bfc",
   "metadata": {},
   "outputs": [
    {
     "name": "stdout",
     "output_type": "stream",
     "text": [
      "F:\\SkillUp TechMaster 2024-25\\TechMaster DP-100\\DP100-project\\ojsalesdata\\https%3A\\%2Fazureopendatastorage.azurefd.net\\ojsales-simulatedcontainer\\oj_sales_data\\Store4128_dominicks.csv\n",
      "F:\\SkillUp TechMaster 2024-25\\TechMaster DP-100\\DP100-project\\ojsalesdata\\https%3A\\%2Fazureopendatastorage.azurefd.net\\ojsales-simulatedcontainer\\oj_sales_data\\Store4128_minute.maid.csv\n",
      "F:\\SkillUp TechMaster 2024-25\\TechMaster DP-100\\DP100-project\\ojsalesdata\\https%3A\\%2Fazureopendatastorage.azurefd.net\\ojsales-simulatedcontainer\\oj_sales_data\\Store4128_tropicana.csv\n"
     ]
    }
   ],
   "source": [
    "# importing the data\n",
    "data_folder_path = f\"F:\\SkillUp TechMaster 2024-25\\TechMaster DP-100\\DP100-project\\ojsalesdata\\https%3A\\%2Fazureopendatastorage.azurefd.net\\ojsales-simulatedcontainer\\oj_sales_data\"\n",
    "\n",
    "store = 4128\n",
    "\n",
    "csv_filesfor4128 = glob.glob(os.path.join(data_folder_path,\"**\",f\"*{store}*.csv\"), recursive=True)\n",
    "\n",
    "for csv_file_path in csv_filesfor4128:\n",
    "    print(csv_file_path)"
   ]
  },
  {
   "cell_type": "code",
   "execution_count": 28,
   "id": "871abb9a-5d5e-44ab-be24-96ff5cd6856e",
   "metadata": {},
   "outputs": [],
   "source": [
    "dominicks_4128_df = pd.read_csv(csv_filesfor4128[0])\n",
    "minutemaid_4128_df = pd.read_csv(csv_filesfor4128[1])\n",
    "tropicana_4128_df = pd.read_csv(csv_filesfor4128[1])"
   ]
  },
  {
   "cell_type": "code",
   "execution_count": 29,
   "id": "9dbad416-bc95-4ce8-826d-e55232750ca2",
   "metadata": {},
   "outputs": [
    {
     "name": "stdout",
     "output_type": "stream",
     "text": [
      "<class 'pandas.core.frame.DataFrame'>\n",
      "RangeIndex: 121 entries, 0 to 120\n",
      "Data columns (total 7 columns):\n",
      " #   Column        Non-Null Count  Dtype  \n",
      "---  ------        --------------  -----  \n",
      " 0   WeekStarting  121 non-null    object \n",
      " 1   Store         121 non-null    int64  \n",
      " 2   Brand         121 non-null    object \n",
      " 3   Quantity      121 non-null    int64  \n",
      " 4   Advert        121 non-null    int64  \n",
      " 5   Price         121 non-null    float64\n",
      " 6   Revenue       121 non-null    float64\n",
      "dtypes: float64(2), int64(3), object(2)\n",
      "memory usage: 6.7+ KB\n"
     ]
    }
   ],
   "source": [
    "dominicks_4128_df.info()"
   ]
  },
  {
   "cell_type": "code",
   "execution_count": 30,
   "id": "4724f422-c8b5-40dd-ae5f-51c944b988b6",
   "metadata": {},
   "outputs": [
    {
     "name": "stdout",
     "output_type": "stream",
     "text": [
      "<class 'pandas.core.frame.DataFrame'>\n",
      "RangeIndex: 121 entries, 0 to 120\n",
      "Data columns (total 7 columns):\n",
      " #   Column        Non-Null Count  Dtype  \n",
      "---  ------        --------------  -----  \n",
      " 0   WeekStarting  121 non-null    object \n",
      " 1   Store         121 non-null    int64  \n",
      " 2   Brand         121 non-null    object \n",
      " 3   Quantity      121 non-null    int64  \n",
      " 4   Advert        121 non-null    int64  \n",
      " 5   Price         121 non-null    float64\n",
      " 6   Revenue       121 non-null    float64\n",
      "dtypes: float64(2), int64(3), object(2)\n",
      "memory usage: 6.7+ KB\n"
     ]
    }
   ],
   "source": [
    "minutemaid_4128_df.info()"
   ]
  },
  {
   "cell_type": "code",
   "execution_count": 31,
   "id": "71b1eb9b-1aeb-4383-98bf-ffbe98f0da5f",
   "metadata": {},
   "outputs": [
    {
     "name": "stdout",
     "output_type": "stream",
     "text": [
      "<class 'pandas.core.frame.DataFrame'>\n",
      "RangeIndex: 121 entries, 0 to 120\n",
      "Data columns (total 7 columns):\n",
      " #   Column        Non-Null Count  Dtype  \n",
      "---  ------        --------------  -----  \n",
      " 0   WeekStarting  121 non-null    object \n",
      " 1   Store         121 non-null    int64  \n",
      " 2   Brand         121 non-null    object \n",
      " 3   Quantity      121 non-null    int64  \n",
      " 4   Advert        121 non-null    int64  \n",
      " 5   Price         121 non-null    float64\n",
      " 6   Revenue       121 non-null    float64\n",
      "dtypes: float64(2), int64(3), object(2)\n",
      "memory usage: 6.7+ KB\n"
     ]
    }
   ],
   "source": [
    "tropicana_4128_df.info()"
   ]
  },
  {
   "cell_type": "code",
   "execution_count": 33,
   "id": "2703f7db-de06-4b3f-a3be-6e6e900336fd",
   "metadata": {},
   "outputs": [],
   "source": [
    "weekDate = dominicks_4128_df[\"WeekStarting\"].copy()\n",
    "\n",
    "dominicks_qty = dominicks_4128_df[\"Quantity\"].copy()\n",
    "minute_maid_qty = minutemaid_4128_df[\"Quantity\"].copy()\n",
    "tropicana_qty = tropicana_4128_df[\"Quantity\"].copy()\n",
    "\n",
    "dominicks_ad = dominicks_4128_df[\"Advert\"].copy()\n",
    "minute_maid_ad = minutemaid_4128_df[\"Advert\"].copy()\n",
    "tropicana_ad = tropicana_4128_df[\"Advert\"].copy()\n",
    "\n",
    "dominicks_price = dominicks_4128_df[\"Price\"].copy()\n",
    "minute_maid_price = minutemaid_4128_df[\"Price\"].copy()\n",
    "tropicana_price = tropicana_4128_df[\"Price\"].copy()\n",
    "\n",
    "dominicks_revenue = dominicks_4128_df[\"Revenue\"].copy()\n",
    "minute_maid_revenue = minutemaid_4128_df[\"Revenue\"].copy()\n",
    "tropicana_revenue = tropicana_4128_df[\"Revenue\"].copy()\n",
    "\n",
    "combined_dict = {\n",
    "    \"WeekStarting\":weekDate,\n",
    "    \"dom_qty\":dominicks_qty,\n",
    "    \"mm_qty\":minute_maid_qty,\n",
    "    \"trp_qty\":tropicana_qty,\n",
    "    \"dom_ad\":dominicks_ad,\n",
    "    \"mm_ad\":minute_maid_ad,\n",
    "    \"trp_ad\":tropicana_ad,\n",
    "    \"dom_price\":dominicks_price,\n",
    "    \"mm_price\":minute_maid_price,\n",
    "    \"trp_price\":tropicana_price,\n",
    "    \"dom_rev\":dominicks_revenue,\n",
    "    \"mm_rev\":minute_maid_revenue,\n",
    "    \"trp_rev\":tropicana_revenue,\n",
    "}\n",
    "\n",
    "oj_4128 = pd.DataFrame(combined_dict)"
   ]
  },
  {
   "cell_type": "code",
   "execution_count": 37,
   "id": "247466d8-5868-45be-b603-5a11c8167ada",
   "metadata": {},
   "outputs": [],
   "source": [
    "oj_4128[\"WeekStarting\"] = pd.to_datetime(oj_4128[\"WeekStarting\"])\n",
    "oj_4128 = oj_4128.sort_values(\"WeekStarting\")"
   ]
  },
  {
   "cell_type": "code",
   "execution_count": 34,
   "id": "2da1b7d0-310b-472c-8058-e1a286cce031",
   "metadata": {},
   "outputs": [
    {
     "name": "stdout",
     "output_type": "stream",
     "text": [
      "<class 'pandas.core.frame.DataFrame'>\n",
      "RangeIndex: 121 entries, 0 to 120\n",
      "Data columns (total 13 columns):\n",
      " #   Column        Non-Null Count  Dtype  \n",
      "---  ------        --------------  -----  \n",
      " 0   WeekStarting  121 non-null    object \n",
      " 1   dom_qty       121 non-null    int64  \n",
      " 2   mm_qty        121 non-null    int64  \n",
      " 3   trp_qty       121 non-null    int64  \n",
      " 4   dom_ad        121 non-null    int64  \n",
      " 5   mm_ad         121 non-null    int64  \n",
      " 6   trp_ad        121 non-null    int64  \n",
      " 7   dom_price     121 non-null    float64\n",
      " 8   mm_price      121 non-null    float64\n",
      " 9   trp_price     121 non-null    float64\n",
      " 10  dom_rev       121 non-null    float64\n",
      " 11  mm_rev        121 non-null    float64\n",
      " 12  trp_rev       121 non-null    float64\n",
      "dtypes: float64(6), int64(6), object(1)\n",
      "memory usage: 12.4+ KB\n"
     ]
    }
   ],
   "source": [
    "oj_4128.info()"
   ]
  },
  {
   "cell_type": "code",
   "execution_count": 38,
   "id": "6452f265-d19c-4474-ab96-f428de030efd",
   "metadata": {},
   "outputs": [
    {
     "name": "stdout",
     "output_type": "stream",
     "text": [
      "  WeekStarting  dom_qty  mm_qty  trp_qty  dom_ad  mm_ad  trp_ad  dom_price  \\\n",
      "0   1990-06-14    18800   11269    11269       1      1       1       2.62   \n",
      "1   1990-06-21    19493   10512    10512       1      1       1       2.49   \n",
      "2   1990-06-28    13994   14028    14028       1      1       1       2.06   \n",
      "3   1990-07-05    19658   10129    10129       1      1       1       2.57   \n",
      "4   1990-07-12    19767   17728    17728       1      1       1       2.08   \n",
      "\n",
      "   mm_price  trp_price   dom_rev    mm_rev   trp_rev  \n",
      "0      2.51       2.51  49256.00  28285.19  28285.19  \n",
      "1      1.91       1.91  48537.57  20077.92  20077.92  \n",
      "2      2.55       2.55  28827.64  35771.40  35771.40  \n",
      "3      2.11       2.11  50521.06  21372.19  21372.19  \n",
      "4      1.94       1.94  41115.36  34392.32  34392.32  \n"
     ]
    }
   ],
   "source": [
    "print(oj_4128.head(5))"
   ]
  },
  {
   "cell_type": "code",
   "execution_count": 39,
   "id": "2abbc481-fad5-472e-8783-dbeac54a1a69",
   "metadata": {},
   "outputs": [
    {
     "name": "stdout",
     "output_type": "stream",
     "text": [
      "\n",
      "DataFrame with new lag features (first few rows will have NaN for lagged data):\n",
      "  WeekStarting  dom_qty  mm_qty  trp_qty  dom_ad  mm_ad  trp_ad  dom_price  \\\n",
      "0   1990-06-14    18800   11269    11269       1      1       1       2.62   \n",
      "1   1990-06-21    19493   10512    10512       1      1       1       2.49   \n",
      "2   1990-06-28    13994   14028    14028       1      1       1       2.06   \n",
      "3   1990-07-05    19658   10129    10129       1      1       1       2.57   \n",
      "4   1990-07-12    19767   17728    17728       1      1       1       2.08   \n",
      "\n",
      "   mm_price  trp_price  ...  trp_price_lag_3  dom_rev_lag_1  dom_rev_lag_2  \\\n",
      "0      2.51       2.51  ...              NaN            NaN            NaN   \n",
      "1      1.91       1.91  ...              NaN       49256.00            NaN   \n",
      "2      2.55       2.55  ...              NaN       48537.57       49256.00   \n",
      "3      2.11       2.11  ...             2.51       28827.64       48537.57   \n",
      "4      1.94       1.94  ...             1.91       50521.06       28827.64   \n",
      "\n",
      "   dom_rev_lag_3  mm_rev_lag_1  mm_rev_lag_2  mm_rev_lag_3  trp_rev_lag_1  \\\n",
      "0            NaN           NaN           NaN           NaN            NaN   \n",
      "1            NaN      28285.19           NaN           NaN       28285.19   \n",
      "2            NaN      20077.92      28285.19           NaN       20077.92   \n",
      "3       49256.00      35771.40      20077.92      28285.19       35771.40   \n",
      "4       48537.57      21372.19      35771.40      20077.92       21372.19   \n",
      "\n",
      "   trp_rev_lag_2  trp_rev_lag_3  \n",
      "0            NaN            NaN  \n",
      "1            NaN            NaN  \n",
      "2       28285.19            NaN  \n",
      "3       20077.92       28285.19  \n",
      "4       35771.40       20077.92  \n",
      "\n",
      "[5 rows x 40 columns]\n",
      "\n",
      "DataFrame with new lag features (last few rows to show populated lags):\n",
      "    WeekStarting  dom_qty  mm_qty  trp_qty  dom_ad  mm_ad  trp_ad  dom_price  \\\n",
      "116   1992-09-03    15526   17191    17191       1      1       1       2.43   \n",
      "117   1992-09-10    13112   16884    16884       1      1       1       2.50   \n",
      "118   1992-09-17    17214   16204    16204       1      1       1       2.10   \n",
      "119   1992-09-24    11032   13633    13633       1      1       1       2.02   \n",
      "120   1992-10-01     9164   19680    19680       1      1       1       1.98   \n",
      "\n",
      "     mm_price  trp_price  ...  trp_price_lag_3  dom_rev_lag_1  dom_rev_lag_2  \\\n",
      "116      2.08       2.08  ...             1.95       31023.81       23177.00   \n",
      "117      1.96       1.96  ...             2.42       37728.18       31023.81   \n",
      "118      2.46       2.46  ...             1.92       32780.00       37728.18   \n",
      "119      1.97       1.97  ...             2.08       36149.40       32780.00   \n",
      "120      2.43       2.43  ...             1.96       22284.64       36149.40   \n",
      "\n",
      "     dom_rev_lag_3  mm_rev_lag_1  mm_rev_lag_2  mm_rev_lag_3  trp_rev_lag_1  \\\n",
      "116       50506.35      21281.28      44784.52      23715.90       21281.28   \n",
      "117       23177.00      35757.28      21281.28      44784.52       35757.28   \n",
      "118       31023.81      33092.64      35757.28      21281.28       33092.64   \n",
      "119       37728.18      39861.84      33092.64      35757.28       39861.84   \n",
      "120       32780.00      26857.01      39861.84      33092.64       26857.01   \n",
      "\n",
      "     trp_rev_lag_2  trp_rev_lag_3  \n",
      "116       44784.52       23715.90  \n",
      "117       21281.28       44784.52  \n",
      "118       35757.28       21281.28  \n",
      "119       33092.64       35757.28  \n",
      "120       39861.84       33092.64  \n",
      "\n",
      "[5 rows x 40 columns]\n"
     ]
    }
   ],
   "source": [
    "# Define the columns you want to create lag features for\n",
    "columns_to_lag = [\n",
    "    'dom_qty', 'mm_qty', 'trp_qty',\n",
    "    'dom_price', 'mm_price', 'trp_price',\n",
    "    'dom_rev', 'mm_rev', 'trp_rev'\n",
    "]\n",
    "\n",
    "# Define the number of lag periods you want (e.g., 1 week, 2 weeks, 3 weeks)\n",
    "lag_periods = [1, 2, 3] # You can adjust this list as needed\n",
    "\n",
    "# Create lagged features\n",
    "for col in columns_to_lag:\n",
    "    for lag in lag_periods:\n",
    "        # Create a new column name, e.g., 'dom_qty_lag_1'\n",
    "        new_col_name = f\"{col}_lag_{lag}\"\n",
    "        oj_4128[new_col_name] = oj_4128[col].shift(periods=lag)\n",
    "\n",
    "print(\"\\nDataFrame with new lag features (first few rows will have NaN for lagged data):\")\n",
    "print(oj_4128.head())\n",
    "\n",
    "# To see the last few rows where lag data will be populated\n",
    "print(\"\\nDataFrame with new lag features (last few rows to show populated lags):\")\n",
    "print(oj_4128.tail())"
   ]
  },
  {
   "cell_type": "code",
   "execution_count": 40,
   "id": "bac7b88d-b283-4620-8bfb-8285b81ec576",
   "metadata": {},
   "outputs": [
    {
     "name": "stdout",
     "output_type": "stream",
     "text": [
      "<class 'pandas.core.frame.DataFrame'>\n",
      "Int64Index: 121 entries, 0 to 120\n",
      "Data columns (total 40 columns):\n",
      " #   Column           Non-Null Count  Dtype         \n",
      "---  ------           --------------  -----         \n",
      " 0   WeekStarting     121 non-null    datetime64[ns]\n",
      " 1   dom_qty          121 non-null    int64         \n",
      " 2   mm_qty           121 non-null    int64         \n",
      " 3   trp_qty          121 non-null    int64         \n",
      " 4   dom_ad           121 non-null    int64         \n",
      " 5   mm_ad            121 non-null    int64         \n",
      " 6   trp_ad           121 non-null    int64         \n",
      " 7   dom_price        121 non-null    float64       \n",
      " 8   mm_price         121 non-null    float64       \n",
      " 9   trp_price        121 non-null    float64       \n",
      " 10  dom_rev          121 non-null    float64       \n",
      " 11  mm_rev           121 non-null    float64       \n",
      " 12  trp_rev          121 non-null    float64       \n",
      " 13  dom_qty_lag_1    120 non-null    float64       \n",
      " 14  dom_qty_lag_2    119 non-null    float64       \n",
      " 15  dom_qty_lag_3    118 non-null    float64       \n",
      " 16  mm_qty_lag_1     120 non-null    float64       \n",
      " 17  mm_qty_lag_2     119 non-null    float64       \n",
      " 18  mm_qty_lag_3     118 non-null    float64       \n",
      " 19  trp_qty_lag_1    120 non-null    float64       \n",
      " 20  trp_qty_lag_2    119 non-null    float64       \n",
      " 21  trp_qty_lag_3    118 non-null    float64       \n",
      " 22  dom_price_lag_1  120 non-null    float64       \n",
      " 23  dom_price_lag_2  119 non-null    float64       \n",
      " 24  dom_price_lag_3  118 non-null    float64       \n",
      " 25  mm_price_lag_1   120 non-null    float64       \n",
      " 26  mm_price_lag_2   119 non-null    float64       \n",
      " 27  mm_price_lag_3   118 non-null    float64       \n",
      " 28  trp_price_lag_1  120 non-null    float64       \n",
      " 29  trp_price_lag_2  119 non-null    float64       \n",
      " 30  trp_price_lag_3  118 non-null    float64       \n",
      " 31  dom_rev_lag_1    120 non-null    float64       \n",
      " 32  dom_rev_lag_2    119 non-null    float64       \n",
      " 33  dom_rev_lag_3    118 non-null    float64       \n",
      " 34  mm_rev_lag_1     120 non-null    float64       \n",
      " 35  mm_rev_lag_2     119 non-null    float64       \n",
      " 36  mm_rev_lag_3     118 non-null    float64       \n",
      " 37  trp_rev_lag_1    120 non-null    float64       \n",
      " 38  trp_rev_lag_2    119 non-null    float64       \n",
      " 39  trp_rev_lag_3    118 non-null    float64       \n",
      "dtypes: datetime64[ns](1), float64(33), int64(6)\n",
      "memory usage: 38.8 KB\n"
     ]
    }
   ],
   "source": [
    "oj_4128.info()"
   ]
  },
  {
   "cell_type": "code",
   "execution_count": 41,
   "id": "d3f8c2ad-3d34-4cb9-ae35-ad43b06222b7",
   "metadata": {},
   "outputs": [],
   "source": [
    "oj_4128.to_csv(\"../data/store4128combined.csv\")"
   ]
  }
 ],
 "metadata": {
  "kernelspec": {
   "display_name": "Python 3 (ipykernel)",
   "language": "python",
   "name": "python3"
  },
  "language_info": {
   "codemirror_mode": {
    "name": "ipython",
    "version": 3
   },
   "file_extension": ".py",
   "mimetype": "text/x-python",
   "name": "python",
   "nbconvert_exporter": "python",
   "pygments_lexer": "ipython3",
   "version": "3.10.18"
  }
 },
 "nbformat": 4,
 "nbformat_minor": 5
}
