{
 "cells": [
  {
   "cell_type": "markdown",
   "id": "768da4cf-cdad-4ab3-81ac-1d564a187531",
   "metadata": {},
   "source": [
    "# ⏳ Time Series Forecasting for OJ Sales\n",
    "\n",
    "This project aims to build and evaluate a time series forecasting model to predict future sales for **3** different food products. By leveraging historical sales data, we apply machine learning and statistical modeling techniques to generate accurate forecasts that can support inventory planning, supply chain optimization, and data-driven business decisions.\n",
    "\n",
    "---\n",
    "\n",
    "### 🔍 Project Objectives:\n",
    "- Load and explore Minute Maid sales time series data.\n",
    "- Perform preprocessing (handling missing values, trend/seasonality decomposition).\n",
    "- Build and compare forecasting models (XGBRegressor, Prophet, ElasticNet, etc.).\n",
    "- Evaluate forecast accuracy using metrics like RMSE and MAPE.\n",
    "- Visualize predictions and generate actionable insights.\n"
   ]
  },
  {
   "cell_type": "markdown",
   "id": "5b4cf59b-22d5-41e3-8200-5bbc2698a0e6",
   "metadata": {},
   "source": [
    "# 1. Import Libraries"
   ]
  },
  {
   "cell_type": "code",
   "execution_count": 1,
   "id": "62441543-0657-4b72-b235-5ff5ac2eb97a",
   "metadata": {},
   "outputs": [
    {
     "name": "stderr",
     "output_type": "stream",
     "text": [
      "C:\\Users\\preda\\.conda\\envs\\azuredp100\\lib\\site-packages\\requests\\__init__.py:86: RequestsDependencyWarning: Unable to find acceptable character detection dependency (chardet or charset_normalizer).\n",
      "  warnings.warn(\n",
      "C:\\Users\\preda\\.conda\\envs\\azuredp100\\lib\\site-packages\\tqdm\\auto.py:21: TqdmWarning: IProgress not found. Please update jupyter and ipywidgets. See https://ipywidgets.readthedocs.io/en/stable/user_install.html\n",
      "  from .autonotebook import tqdm as notebook_tqdm\n"
     ]
    }
   ],
   "source": [
    "# Data import\n",
    "from azureml.opendatasets import OjSalesSimulated\n",
    "\n",
    "# os tools\n",
    "import os\n",
    "import glob\n",
    "import pandas as pd\n",
    "import numpy as np\n",
    "from datetime import timedelta   \n",
    "\n",
    "# metric & component libraries\n",
    "from sklearn.metrics import mean_absolute_error, median_absolute_error, median_absolute_error, mean_absolute_percentage_error\n",
    "from sklearn.preprocessing import MinMaxScaler, OneHotEncoder\n",
    "from sklearn.compose import ColumnTransformer\n",
    "from sklearn.pipeline import Pipeline\n",
    "import joblib\n",
    "\n",
    "# time series models\n",
    "from sklearn.linear_model import ElasticNet\n",
    "from xgboost import XGBRegressor\n",
    "from statsforecast.models import AutoARIMA, SeasonalNaive, Naive\n",
    "from statsforecast import StatsForecast\n",
    "import xgboost as xgb\n",
    "\n",
    "# plotting the metrcis graph lib\n",
    "import seaborn as sns\n",
    "import matplotlib.pyplot as plt\n",
    "from statsmodels.graphics.tsaplots import plot_acf, plot_pacf\n",
    "%matplotlib inline"
   ]
  },
  {
   "cell_type": "markdown",
   "id": "09dd1c17-c5cd-4463-af9c-9ed10dc86f23",
   "metadata": {},
   "source": [
    "# 2. Download Datasets from azureml "
   ]
  },
  {
   "cell_type": "code",
   "execution_count": 2,
   "id": "cab3bb2c-993f-4114-a1a3-7818e5cdbc07",
   "metadata": {},
   "outputs": [
    {
     "name": "stdout",
     "output_type": "stream",
     "text": [
      "Data directory already exists: ojsalesdata\n",
      "Models directory already exists: models\n"
     ]
    }
   ],
   "source": [
    "# String for folder name for data\n",
    "ojsales_data_path = \"ojsalesdata\"\n",
    "models_output_path = \"models\" # Define a path for saving models\n",
    "\n",
    "# Create the data folder if it doesn't exist\n",
    "if not os.path.exists(ojsales_data_path):\n",
    "    os.mkdir(ojsales_data_path)\n",
    "    print(f\"Created data directory: {ojsales_data_path}\")\n",
    "else:\n",
    "    print(f\"Data directory already exists: {ojsales_data_path}\")\n",
    "\n",
    "# Create the models folder if it doesn't exist\n",
    "if not os.path.exists(models_output_path):\n",
    "    os.mkdir(models_output_path)\n",
    "    print(f\"Created models directory: {models_output_path}\")\n",
    "else:\n",
    "    print(f\"Models directory already exists: {models_output_path}\")\n"
   ]
  },
  {
   "cell_type": "code",
   "execution_count": 3,
   "id": "f637f6fd-ca7f-442f-9c52-b59f70f4a461",
   "metadata": {
    "scrolled": true
   },
   "outputs": [
    {
     "name": "stdout",
     "output_type": "stream",
     "text": [
      "Downloading data to ojsalesdata...\n",
      "{'infer_column_types': 'False', 'activity': 'download'}\n",
      "{'infer_column_types': 'False', 'activity': 'download', 'activityApp': 'FileDataset'}\n",
      "Data download complete.\n"
     ]
    }
   ],
   "source": [
    "# Initialize OJsales data obj\n",
    "ojdata_obj = OjSalesSimulated()\n",
    "\n",
    "# Pulling the files in the oj simulated opendatasets from azureml\n",
    "ojsales_datafiles = ojdata_obj.get_file_dataset()\n",
    "\n",
    "# Download the data into this specific folder,\n",
    "# also incase it already exists still write on top of that file\n",
    "print(f\"Downloading data to {ojsales_data_path}...\")\n",
    "ojsales_datafiles.download(ojsales_data_path, overwrite=True)\n",
    "print(\"Data download complete.\")\n"
   ]
  },
  {
   "cell_type": "markdown",
   "id": "5bc44c57-01b0-43a2-9058-169b74f8a648",
   "metadata": {},
   "source": [
    "# 3. Extract Data "
   ]
  },
  {
   "cell_type": "code",
   "execution_count": 4,
   "id": "76c869f7-4450-47bc-ae6c-5e9e97bd77bd",
   "metadata": {},
   "outputs": [
    {
     "name": "stdout",
     "output_type": "stream",
     "text": [
      "Searching for CSV files in ojsalesdata...\n"
     ]
    }
   ],
   "source": [
    "# We'll use glob to find the actual CSV files, searching recursively.\n",
    "print(f\"Searching for CSV files in {ojsales_data_path}...\")\n",
    "csv_files = glob.glob(os.path.join(ojsales_data_path, \"**\", \"*.csv\"), recursive=True)\n",
    "\n",
    "if not csv_files:\n",
    "    print(f\"Error: No CSV files found in '{ojsales_data_path}' or its subdirectories. Please check the download process and path.\")\n",
    "    exit() # Exit if no data files are found\n"
   ]
  },
  {
   "cell_type": "code",
   "execution_count": 5,
   "id": "3efac4f3-4c36-471a-b43a-fd449fad4133",
   "metadata": {},
   "outputs": [
    {
     "name": "stdout",
     "output_type": "stream",
     "text": [
      "Found and loaded 11973 CSV files.\n"
     ]
    }
   ],
   "source": [
    "# # real path for local pc data location\n",
    "# real_local_support_path = r\"F:\\SkillUp TechMaster 2024-25\\TechMaster DP-100\\DP100-project\\ojsalesdata\\https%3A\\%2Fazureopendatastorage.azurefd.net\\ojsales-simulatedcontainer\\oj_sales_data\"\n",
    "\n",
    "# Create an empty list to hold individual DataFrames\n",
    "all_dfs = []\n",
    "\n",
    "# Iterate through each CSV file\n",
    "for file_path in csv_files:\n",
    "    # Read the CSV file into a pandas DataFrame\n",
    "    df = pd.read_csv(file_path)\n",
    "    # Append the DataFrame to the list\n",
    "    all_dfs.append(df)\n",
    "print(f\"Found and loaded {len(csv_files)} CSV files.\")\n",
    "\n"
   ]
  },
  {
   "cell_type": "markdown",
   "id": "ca316f56-78e5-4919-befb-99343e363b47",
   "metadata": {},
   "source": [
    "# 4. Getting the Data Ready"
   ]
  },
  {
   "cell_type": "code",
   "execution_count": 40,
   "id": "d8d8ed3b-f90c-4d76-bd6a-b9379f4f4e87",
   "metadata": {},
   "outputs": [
    {
     "name": "stdout",
     "output_type": "stream",
     "text": [
      "All CSV files combined into a single DataFrame.\n",
      "Converted 'WeekStarting' to datetime objects.\n",
      "Converting 'Quantity' column to numeric and handling non-numeric values...\n",
      "'Quantity' column successfully processed to numeric (float32) with NaNs filled.\n"
     ]
    }
   ],
   "source": [
    "# Concatenate all DataFrames in the list into a single DataFrame\n",
    "# This will stack them vertically, creating the desired long format\n",
    "combined_df = pd.concat(all_dfs, ignore_index=True)\n",
    "print(\"All CSV files combined into a single DataFrame.\")\n",
    "\n",
    "# Ensure 'WeekStarting' is a datetime object for time series operations\n",
    "combined_df['WeekStarting'] = pd.to_datetime(combined_df['WeekStarting'])\n",
    "print(\"Converted 'WeekStarting' to datetime objects.\")\n",
    "\n",
    "# --- Start of Modified 'Quantity' Column Cleaning ---\n",
    "# Ensure 'Quantity' is numeric and handle non-numeric values\n",
    "print(\"Converting 'Quantity' column to numeric and handling non-numeric values...\")\n",
    "\n",
    "# Convert to numeric, coercing any errors to NaN\n",
    "combined_df['Quantity'] = pd.to_numeric(combined_df['Quantity'], errors='coerce')\n",
    "\n",
    "# Fill any NaN values (including those from coercion) with 0\n",
    "combined_df['Quantity'] = combined_df['Quantity'].fillna(0)\n",
    "\n",
    "# Ensure the column has a float data type for consistency, as StatsForecast expects numeric values\n",
    "combined_df['Quantity'] = combined_df['Quantity'].astype(np.float32)\n",
    "print(\"'Quantity' column successfully processed to numeric (float32) with NaNs filled.\")\n",
    "# --- End of Modified 'Quantity' Column Cleaning ---\n"
   ]
  },
  {
   "cell_type": "code",
   "execution_count": 41,
   "id": "05931b98-929d-4d3d-b44f-f698a39c0ab1",
   "metadata": {},
   "outputs": [
    {
     "name": "stdout",
     "output_type": "stream",
     "text": [
      "Combined DataFrame Head:\n",
      "  WeekStarting  Store      Brand  Quantity  Advert  Price   Revenue\n",
      "0   1990-06-14   1000  dominicks   12003.0       1   2.59  31087.77\n",
      "1   1990-06-21   1000  dominicks   10239.0       1   2.39  24471.21\n",
      "2   1990-06-28   1000  dominicks   17917.0       1   2.48  44434.16\n",
      "3   1990-07-05   1000  dominicks   14218.0       1   2.33  33127.94\n",
      "4   1990-07-12   1000  dominicks   15925.0       1   2.01  32009.25\n",
      "\n",
      "Combined DataFrame Info:\n",
      "<class 'pandas.core.frame.DataFrame'>\n",
      "RangeIndex: 1448733 entries, 0 to 1448732\n",
      "Data columns (total 7 columns):\n",
      " #   Column        Non-Null Count    Dtype         \n",
      "---  ------        --------------    -----         \n",
      " 0   WeekStarting  1448733 non-null  datetime64[ns]\n",
      " 1   Store         1448733 non-null  int64         \n",
      " 2   Brand         1448733 non-null  object        \n",
      " 3   Quantity      1448733 non-null  float32       \n",
      " 4   Advert        1448733 non-null  int64         \n",
      " 5   Price         1448733 non-null  float64       \n",
      " 6   Revenue       1448733 non-null  float64       \n",
      "dtypes: datetime64[ns](1), float32(1), float64(2), int64(2), object(1)\n",
      "memory usage: 71.8+ MB\n"
     ]
    }
   ],
   "source": [
    "# Display the first few rows and the info to verify the structure\n",
    "print(\"Combined DataFrame Head:\")\n",
    "print(combined_df.head())\n",
    "print(\"\\nCombined DataFrame Info:\")\n",
    "combined_df.info()"
   ]
  },
  {
   "cell_type": "code",
   "execution_count": 42,
   "id": "b7bb730e-2f85-42ad-879f-5a5cc5931f4d",
   "metadata": {},
   "outputs": [
    {
     "data": {
      "text/plain": [
       "array(['dominicks', 'minute.maid', 'tropicana'], dtype=object)"
      ]
     },
     "execution_count": 42,
     "metadata": {},
     "output_type": "execute_result"
    }
   ],
   "source": [
    "# unique Brands out there\n",
    "combined_df[\"Brand\"].unique()"
   ]
  },
  {
   "cell_type": "code",
   "execution_count": 9,
   "id": "fbc08ca3-1a2b-4460-8f9d-663965bea219",
   "metadata": {
    "scrolled": true
   },
   "outputs": [
    {
     "data": {
      "text/html": [
       "<div>\n",
       "<style scoped>\n",
       "    .dataframe tbody tr th:only-of-type {\n",
       "        vertical-align: middle;\n",
       "    }\n",
       "\n",
       "    .dataframe tbody tr th {\n",
       "        vertical-align: top;\n",
       "    }\n",
       "\n",
       "    .dataframe thead th {\n",
       "        text-align: right;\n",
       "    }\n",
       "</style>\n",
       "<table border=\"1\" class=\"dataframe\">\n",
       "  <thead>\n",
       "    <tr style=\"text-align: right;\">\n",
       "      <th></th>\n",
       "      <th>WeekStarting</th>\n",
       "      <th>Store</th>\n",
       "      <th>Brand</th>\n",
       "      <th>Quantity</th>\n",
       "      <th>Advert</th>\n",
       "      <th>Price</th>\n",
       "      <th>Revenue</th>\n",
       "    </tr>\n",
       "  </thead>\n",
       "  <tbody>\n",
       "    <tr>\n",
       "      <th>141570</th>\n",
       "      <td>1990-06-14</td>\n",
       "      <td>138</td>\n",
       "      <td>dominicks</td>\n",
       "      <td>15719</td>\n",
       "      <td>1</td>\n",
       "      <td>2.03</td>\n",
       "      <td>31909.57</td>\n",
       "    </tr>\n",
       "    <tr>\n",
       "      <th>141571</th>\n",
       "      <td>1990-06-21</td>\n",
       "      <td>138</td>\n",
       "      <td>dominicks</td>\n",
       "      <td>9882</td>\n",
       "      <td>1</td>\n",
       "      <td>2.58</td>\n",
       "      <td>25495.56</td>\n",
       "    </tr>\n",
       "    <tr>\n",
       "      <th>141572</th>\n",
       "      <td>1990-06-28</td>\n",
       "      <td>138</td>\n",
       "      <td>dominicks</td>\n",
       "      <td>18214</td>\n",
       "      <td>1</td>\n",
       "      <td>2.47</td>\n",
       "      <td>44988.58</td>\n",
       "    </tr>\n",
       "    <tr>\n",
       "      <th>141573</th>\n",
       "      <td>1990-07-05</td>\n",
       "      <td>138</td>\n",
       "      <td>dominicks</td>\n",
       "      <td>13987</td>\n",
       "      <td>1</td>\n",
       "      <td>2.37</td>\n",
       "      <td>33149.19</td>\n",
       "    </tr>\n",
       "    <tr>\n",
       "      <th>141574</th>\n",
       "      <td>1990-07-12</td>\n",
       "      <td>138</td>\n",
       "      <td>dominicks</td>\n",
       "      <td>15735</td>\n",
       "      <td>1</td>\n",
       "      <td>2.68</td>\n",
       "      <td>42169.80</td>\n",
       "    </tr>\n",
       "    <tr>\n",
       "      <th>...</th>\n",
       "      <td>...</td>\n",
       "      <td>...</td>\n",
       "      <td>...</td>\n",
       "      <td>...</td>\n",
       "      <td>...</td>\n",
       "      <td>...</td>\n",
       "      <td>...</td>\n",
       "    </tr>\n",
       "    <tr>\n",
       "      <th>141928</th>\n",
       "      <td>1992-09-03</td>\n",
       "      <td>138</td>\n",
       "      <td>tropicana</td>\n",
       "      <td>12864</td>\n",
       "      <td>1</td>\n",
       "      <td>2.53</td>\n",
       "      <td>32545.92</td>\n",
       "    </tr>\n",
       "    <tr>\n",
       "      <th>141929</th>\n",
       "      <td>1992-09-10</td>\n",
       "      <td>138</td>\n",
       "      <td>tropicana</td>\n",
       "      <td>17391</td>\n",
       "      <td>1</td>\n",
       "      <td>2.22</td>\n",
       "      <td>38608.02</td>\n",
       "    </tr>\n",
       "    <tr>\n",
       "      <th>141930</th>\n",
       "      <td>1992-09-17</td>\n",
       "      <td>138</td>\n",
       "      <td>tropicana</td>\n",
       "      <td>19427</td>\n",
       "      <td>1</td>\n",
       "      <td>2.43</td>\n",
       "      <td>47207.61</td>\n",
       "    </tr>\n",
       "    <tr>\n",
       "      <th>141931</th>\n",
       "      <td>1992-09-24</td>\n",
       "      <td>138</td>\n",
       "      <td>tropicana</td>\n",
       "      <td>12305</td>\n",
       "      <td>1</td>\n",
       "      <td>2.03</td>\n",
       "      <td>24979.15</td>\n",
       "    </tr>\n",
       "    <tr>\n",
       "      <th>141932</th>\n",
       "      <td>1992-10-01</td>\n",
       "      <td>138</td>\n",
       "      <td>tropicana</td>\n",
       "      <td>15204</td>\n",
       "      <td>1</td>\n",
       "      <td>2.02</td>\n",
       "      <td>30712.08</td>\n",
       "    </tr>\n",
       "  </tbody>\n",
       "</table>\n",
       "<p>363 rows × 7 columns</p>\n",
       "</div>"
      ],
      "text/plain": [
       "       WeekStarting  Store      Brand  Quantity  Advert  Price   Revenue\n",
       "141570   1990-06-14    138  dominicks     15719       1   2.03  31909.57\n",
       "141571   1990-06-21    138  dominicks      9882       1   2.58  25495.56\n",
       "141572   1990-06-28    138  dominicks     18214       1   2.47  44988.58\n",
       "141573   1990-07-05    138  dominicks     13987       1   2.37  33149.19\n",
       "141574   1990-07-12    138  dominicks     15735       1   2.68  42169.80\n",
       "...             ...    ...        ...       ...     ...    ...       ...\n",
       "141928   1992-09-03    138  tropicana     12864       1   2.53  32545.92\n",
       "141929   1992-09-10    138  tropicana     17391       1   2.22  38608.02\n",
       "141930   1992-09-17    138  tropicana     19427       1   2.43  47207.61\n",
       "141931   1992-09-24    138  tropicana     12305       1   2.03  24979.15\n",
       "141932   1992-10-01    138  tropicana     15204       1   2.02  30712.08\n",
       "\n",
       "[363 rows x 7 columns]"
      ]
     },
     "execution_count": 9,
     "metadata": {},
     "output_type": "execute_result"
    }
   ],
   "source": [
    "# how many rows are there for a certain store numbers\n",
    "combined_df[combined_df[\"Store\"]==138]"
   ]
  },
  {
   "cell_type": "code",
   "execution_count": 10,
   "id": "18f0e742-51c9-474d-ba3b-18eb7557b177",
   "metadata": {},
   "outputs": [
    {
     "data": {
      "text/html": [
       "<div>\n",
       "<style scoped>\n",
       "    .dataframe tbody tr th:only-of-type {\n",
       "        vertical-align: middle;\n",
       "    }\n",
       "\n",
       "    .dataframe tbody tr th {\n",
       "        vertical-align: top;\n",
       "    }\n",
       "\n",
       "    .dataframe thead th {\n",
       "        text-align: right;\n",
       "    }\n",
       "</style>\n",
       "<table border=\"1\" class=\"dataframe\">\n",
       "  <thead>\n",
       "    <tr style=\"text-align: right;\">\n",
       "      <th></th>\n",
       "      <th>WeekStarting</th>\n",
       "      <th>Store</th>\n",
       "      <th>Brand</th>\n",
       "      <th>Quantity</th>\n",
       "      <th>Advert</th>\n",
       "      <th>Price</th>\n",
       "      <th>Revenue</th>\n",
       "    </tr>\n",
       "  </thead>\n",
       "  <tbody>\n",
       "    <tr>\n",
       "      <th>0</th>\n",
       "      <td>1990-06-14</td>\n",
       "      <td>1000</td>\n",
       "      <td>dominicks</td>\n",
       "      <td>12003</td>\n",
       "      <td>1</td>\n",
       "      <td>2.59</td>\n",
       "      <td>31087.77</td>\n",
       "    </tr>\n",
       "    <tr>\n",
       "      <th>1</th>\n",
       "      <td>1990-06-21</td>\n",
       "      <td>1000</td>\n",
       "      <td>dominicks</td>\n",
       "      <td>10239</td>\n",
       "      <td>1</td>\n",
       "      <td>2.39</td>\n",
       "      <td>24471.21</td>\n",
       "    </tr>\n",
       "    <tr>\n",
       "      <th>2</th>\n",
       "      <td>1990-06-28</td>\n",
       "      <td>1000</td>\n",
       "      <td>dominicks</td>\n",
       "      <td>17917</td>\n",
       "      <td>1</td>\n",
       "      <td>2.48</td>\n",
       "      <td>44434.16</td>\n",
       "    </tr>\n",
       "    <tr>\n",
       "      <th>3</th>\n",
       "      <td>1990-07-05</td>\n",
       "      <td>1000</td>\n",
       "      <td>dominicks</td>\n",
       "      <td>14218</td>\n",
       "      <td>1</td>\n",
       "      <td>2.33</td>\n",
       "      <td>33127.94</td>\n",
       "    </tr>\n",
       "    <tr>\n",
       "      <th>4</th>\n",
       "      <td>1990-07-12</td>\n",
       "      <td>1000</td>\n",
       "      <td>dominicks</td>\n",
       "      <td>15925</td>\n",
       "      <td>1</td>\n",
       "      <td>2.01</td>\n",
       "      <td>32009.25</td>\n",
       "    </tr>\n",
       "    <tr>\n",
       "      <th>...</th>\n",
       "      <td>...</td>\n",
       "      <td>...</td>\n",
       "      <td>...</td>\n",
       "      <td>...</td>\n",
       "      <td>...</td>\n",
       "      <td>...</td>\n",
       "      <td>...</td>\n",
       "    </tr>\n",
       "    <tr>\n",
       "      <th>358</th>\n",
       "      <td>1992-09-03</td>\n",
       "      <td>1000</td>\n",
       "      <td>tropicana</td>\n",
       "      <td>15013</td>\n",
       "      <td>1</td>\n",
       "      <td>2.62</td>\n",
       "      <td>39334.06</td>\n",
       "    </tr>\n",
       "    <tr>\n",
       "      <th>359</th>\n",
       "      <td>1992-09-10</td>\n",
       "      <td>1000</td>\n",
       "      <td>tropicana</td>\n",
       "      <td>16557</td>\n",
       "      <td>1</td>\n",
       "      <td>1.91</td>\n",
       "      <td>31623.87</td>\n",
       "    </tr>\n",
       "    <tr>\n",
       "      <th>360</th>\n",
       "      <td>1992-09-17</td>\n",
       "      <td>1000</td>\n",
       "      <td>tropicana</td>\n",
       "      <td>18281</td>\n",
       "      <td>1</td>\n",
       "      <td>2.33</td>\n",
       "      <td>42594.73</td>\n",
       "    </tr>\n",
       "    <tr>\n",
       "      <th>361</th>\n",
       "      <td>1992-09-24</td>\n",
       "      <td>1000</td>\n",
       "      <td>tropicana</td>\n",
       "      <td>15442</td>\n",
       "      <td>1</td>\n",
       "      <td>2.65</td>\n",
       "      <td>40921.30</td>\n",
       "    </tr>\n",
       "    <tr>\n",
       "      <th>362</th>\n",
       "      <td>1992-10-01</td>\n",
       "      <td>1000</td>\n",
       "      <td>tropicana</td>\n",
       "      <td>12893</td>\n",
       "      <td>1</td>\n",
       "      <td>2.18</td>\n",
       "      <td>28106.74</td>\n",
       "    </tr>\n",
       "  </tbody>\n",
       "</table>\n",
       "<p>363 rows × 7 columns</p>\n",
       "</div>"
      ],
      "text/plain": [
       "    WeekStarting  Store      Brand  Quantity  Advert  Price   Revenue\n",
       "0     1990-06-14   1000  dominicks     12003       1   2.59  31087.77\n",
       "1     1990-06-21   1000  dominicks     10239       1   2.39  24471.21\n",
       "2     1990-06-28   1000  dominicks     17917       1   2.48  44434.16\n",
       "3     1990-07-05   1000  dominicks     14218       1   2.33  33127.94\n",
       "4     1990-07-12   1000  dominicks     15925       1   2.01  32009.25\n",
       "..           ...    ...        ...       ...     ...    ...       ...\n",
       "358   1992-09-03   1000  tropicana     15013       1   2.62  39334.06\n",
       "359   1992-09-10   1000  tropicana     16557       1   1.91  31623.87\n",
       "360   1992-09-17   1000  tropicana     18281       1   2.33  42594.73\n",
       "361   1992-09-24   1000  tropicana     15442       1   2.65  40921.30\n",
       "362   1992-10-01   1000  tropicana     12893       1   2.18  28106.74\n",
       "\n",
       "[363 rows x 7 columns]"
      ]
     },
     "execution_count": 10,
     "metadata": {},
     "output_type": "execute_result"
    }
   ],
   "source": [
    "# hoe omany rows are there for a different store number\n",
    "combined_df[combined_df[\"Store\"]==1000]"
   ]
  },
  {
   "cell_type": "code",
   "execution_count": 11,
   "id": "cbc6df24-a28a-46d2-b2ad-93982594f556",
   "metadata": {},
   "outputs": [
    {
     "data": {
      "text/plain": [
       "3991"
      ]
     },
     "execution_count": 11,
     "metadata": {},
     "output_type": "execute_result"
    }
   ],
   "source": [
    "# the number of stores that are available in the data\n",
    "len(combined_df[\"Store\"].unique())"
   ]
  },
  {
   "cell_type": "code",
   "execution_count": 43,
   "id": "37613583-8d99-48fb-a2a2-c80b81458021",
   "metadata": {},
   "outputs": [
    {
     "name": "stdout",
     "output_type": "stream",
     "text": [
      "\n",
      "DataFrame sorted by Store and WeekStarting, and re-indexed.\n"
     ]
    },
    {
     "data": {
      "text/html": [
       "<div>\n",
       "<style scoped>\n",
       "    .dataframe tbody tr th:only-of-type {\n",
       "        vertical-align: middle;\n",
       "    }\n",
       "\n",
       "    .dataframe tbody tr th {\n",
       "        vertical-align: top;\n",
       "    }\n",
       "\n",
       "    .dataframe thead th {\n",
       "        text-align: right;\n",
       "    }\n",
       "</style>\n",
       "<table border=\"1\" class=\"dataframe\">\n",
       "  <thead>\n",
       "    <tr style=\"text-align: right;\">\n",
       "      <th></th>\n",
       "      <th>WeekStarting</th>\n",
       "      <th>Store</th>\n",
       "      <th>Brand</th>\n",
       "      <th>Quantity</th>\n",
       "      <th>Advert</th>\n",
       "      <th>Price</th>\n",
       "      <th>Revenue</th>\n",
       "    </tr>\n",
       "  </thead>\n",
       "  <tbody>\n",
       "    <tr>\n",
       "      <th>0</th>\n",
       "      <td>1990-06-14</td>\n",
       "      <td>138</td>\n",
       "      <td>dominicks</td>\n",
       "      <td>15719.0</td>\n",
       "      <td>1</td>\n",
       "      <td>2.03</td>\n",
       "      <td>31909.57</td>\n",
       "    </tr>\n",
       "    <tr>\n",
       "      <th>1</th>\n",
       "      <td>1990-06-14</td>\n",
       "      <td>138</td>\n",
       "      <td>minute.maid</td>\n",
       "      <td>10034.0</td>\n",
       "      <td>1</td>\n",
       "      <td>1.95</td>\n",
       "      <td>19566.30</td>\n",
       "    </tr>\n",
       "    <tr>\n",
       "      <th>2</th>\n",
       "      <td>1990-06-14</td>\n",
       "      <td>138</td>\n",
       "      <td>tropicana</td>\n",
       "      <td>19455.0</td>\n",
       "      <td>1</td>\n",
       "      <td>2.54</td>\n",
       "      <td>49415.70</td>\n",
       "    </tr>\n",
       "    <tr>\n",
       "      <th>3</th>\n",
       "      <td>1990-06-21</td>\n",
       "      <td>138</td>\n",
       "      <td>dominicks</td>\n",
       "      <td>9882.0</td>\n",
       "      <td>1</td>\n",
       "      <td>2.58</td>\n",
       "      <td>25495.56</td>\n",
       "    </tr>\n",
       "    <tr>\n",
       "      <th>4</th>\n",
       "      <td>1990-06-21</td>\n",
       "      <td>138</td>\n",
       "      <td>minute.maid</td>\n",
       "      <td>18154.0</td>\n",
       "      <td>1</td>\n",
       "      <td>1.96</td>\n",
       "      <td>35581.84</td>\n",
       "    </tr>\n",
       "  </tbody>\n",
       "</table>\n",
       "</div>"
      ],
      "text/plain": [
       "  WeekStarting  Store        Brand  Quantity  Advert  Price   Revenue\n",
       "0   1990-06-14    138    dominicks   15719.0       1   2.03  31909.57\n",
       "1   1990-06-14    138  minute.maid   10034.0       1   1.95  19566.30\n",
       "2   1990-06-14    138    tropicana   19455.0       1   2.54  49415.70\n",
       "3   1990-06-21    138    dominicks    9882.0       1   2.58  25495.56\n",
       "4   1990-06-21    138  minute.maid   18154.0       1   1.96  35581.84"
      ]
     },
     "execution_count": 43,
     "metadata": {},
     "output_type": "execute_result"
    }
   ],
   "source": [
    "\n",
    "# Orderby the store numbers by the weekstarting column and also re-indexing the entire df\n",
    "combined_df = combined_df.sort_values(by=[\"Store\",\"WeekStarting\"], ascending=True).reset_index(drop=True)\n",
    "print(\"\\nDataFrame sorted by Store and WeekStarting, and re-indexed.\")\n",
    "\n",
    "# first head\n",
    "combined_df.head(5)"
   ]
  },
  {
   "cell_type": "code",
   "execution_count": 13,
   "id": "41775e44-4c0b-486d-b988-60e08982ea39",
   "metadata": {
    "scrolled": true
   },
   "outputs": [
    {
     "name": "stdout",
     "output_type": "stream",
     "text": [
      "<class 'pandas.core.frame.DataFrame'>\n",
      "RangeIndex: 1448733 entries, 0 to 1448732\n",
      "Data columns (total 7 columns):\n",
      " #   Column        Non-Null Count    Dtype         \n",
      "---  ------        --------------    -----         \n",
      " 0   WeekStarting  1448733 non-null  datetime64[ns]\n",
      " 1   Store         1448733 non-null  int64         \n",
      " 2   Brand         1448733 non-null  object        \n",
      " 3   Quantity      1448733 non-null  int64         \n",
      " 4   Advert        1448733 non-null  int64         \n",
      " 5   Price         1448733 non-null  float64       \n",
      " 6   Revenue       1448733 non-null  float64       \n",
      "dtypes: datetime64[ns](1), float64(2), int64(3), object(1)\n",
      "memory usage: 77.4+ MB\n"
     ]
    }
   ],
   "source": [
    "# information for the df\n",
    "combined_df.info()"
   ]
  },
  {
   "cell_type": "markdown",
   "id": "38a7f9e7-72d3-4a72-b8f2-d9b8e517b89e",
   "metadata": {},
   "source": [
    "## 4.1 Time Series Plots Interval Valuation"
   ]
  },
  {
   "cell_type": "code",
   "execution_count": 44,
   "id": "edb85e2c-d2ad-4a9a-988e-2583fd0708f3",
   "metadata": {},
   "outputs": [],
   "source": [
    "# --- 1. Select a Single Time Series for Plotting ---\n",
    "# Let's pick an arbitrary Store and Brand for demonstration\n",
    "# You might want to choose one that has a full history without missing values\n",
    "sample_store = combined_df['Store'].iloc[0] # Gets the first store ID\n",
    "sample_brand = combined_df['Brand'].iloc[0] # Gets the first brand name\n"
   ]
  },
  {
   "cell_type": "code",
   "execution_count": 45,
   "id": "0f5a7715-e4f0-4a8b-b6bb-c2df94134056",
   "metadata": {},
   "outputs": [],
   "source": [
    "# Filter the DataFrame for this specific series\n",
    "single_series_df = combined_df[(combined_df['Store'] == sample_store) &\n",
    "                                 (combined_df['Brand'] == sample_brand)].copy()\n",
    "\n",
    "# Set 'WeekStarting' as the index for time series plotting functions\n",
    "single_series_df = single_series_df.set_index('WeekStarting')\n",
    "\n",
    "# Extract the 'Quantity' (or 'Revenue') column for analysis\n",
    "time_series_data = single_series_df['Quantity']\n",
    "\n",
    "# Handle any remaining NaNs in this specific series if present (e.g., from very early lags)\n",
    "# For ACF/PACF, it's best to have no NaNs.\n",
    "time_series_data = time_series_data.dropna()\n"
   ]
  },
  {
   "cell_type": "code",
   "execution_count": 46,
   "id": "a2733df4-63a5-4765-855c-90e628515d33",
   "metadata": {},
   "outputs": [
    {
     "data": {
      "image/png": "[encoded data removed]",
      "text/plain": [
       "<Figure size 1200x500 with 1 Axes>"
      ]
     },
     "metadata": {},
     "output_type": "display_data"
    },
    {
     "data": {
      "image/png": "[encoded data removed]",
      "text/plain": [
       "<Figure size 1200x500 with 1 Axes>"
      ]
     },
     "metadata": {},
     "output_type": "display_data"
    }
   ],
   "source": [
    "\n",
    "# plotting the 2 plots\n",
    "if time_series_data.empty:\n",
    "    print(f\"No data available for Store {sample_store}, Brand {sample_brand} after filtering and dropping NaNs. Please try a different combination.\")\n",
    "else:\n",
    "    # --- 2. Plot ACF (Autocorrelation Function) ---\n",
    "    plt.figure(figsize=(12, 5))\n",
    "    plot_acf(time_series_data, lags=20, ax=plt.gca(), title=f'ACF for Store {sample_store}, Brand {sample_brand} Quantity')\n",
    "    plt.grid(True, linestyle='--', alpha=0.7)\n",
    "    plt.show()\n",
    "\n",
    "    # --- 3. Plot PACF (Partial Autocorrelation Function) ---\n",
    "    plt.figure(figsize=(12, 5))\n",
    "    plot_pacf(time_series_data, lags=20, ax=plt.gca(), title=f'PACF for Store {sample_store}, Brand {sample_brand} Quantity')\n",
    "    plt.grid(True, linestyle='--', alpha=0.7)\n",
    "    plt.show()"
   ]
  },
  {
   "cell_type": "markdown",
   "id": "0aa3d610-61b2-4b3a-a79e-23d786cb2dc6",
   "metadata": {},
   "source": [
    "## 4.2 Feature Engineering"
   ]
  },
  {
   "cell_type": "code",
   "execution_count": 47,
   "id": "2e01e15b-4a7b-494e-a61e-d410f6ea31f0",
   "metadata": {},
   "outputs": [
    {
     "name": "stdout",
     "output_type": "stream",
     "text": [
      "\n",
      "--- Creating Time-based Features ---\n",
      "Time-based features created.\n"
     ]
    }
   ],
   "source": [
    "# --- Feature Engineering ---\n",
    "# 1. Time-based features from 'WeekStarting'\n",
    "print(\"\\n--- Creating Time-based Features ---\")\n",
    "combined_df['DayOfWeek'] = combined_df['WeekStarting'].dt.dayofweek\n",
    "combined_df['Month'] = combined_df['WeekStarting'].dt.month\n",
    "combined_df['WeekOfYear'] = combined_df['WeekStarting'].dt.isocalendar().week.astype(int)\n",
    "combined_df['Year'] = combined_df['WeekStarting'].dt.year\n",
    "combined_df['DayOfMonth'] = combined_df['WeekStarting'].dt.day\n",
    "combined_df['IsMonthStart'] = combined_df['WeekStarting'].dt.is_month_start.astype(int)\n",
    "combined_df['IsMonthEnd'] = combined_df['WeekStarting'].dt.is_month_end.astype(int)\n",
    "print(\"Time-based features created.\")\n",
    "\n"
   ]
  },
  {
   "cell_type": "code",
   "execution_count": 48,
   "id": "0a12dc5a-5d0a-43cc-8245-b4ad50221176",
   "metadata": {},
   "outputs": [
    {
     "data": {
      "text/html": [
       "<div>\n",
       "<style scoped>\n",
       "    .dataframe tbody tr th:only-of-type {\n",
       "        vertical-align: middle;\n",
       "    }\n",
       "\n",
       "    .dataframe tbody tr th {\n",
       "        vertical-align: top;\n",
       "    }\n",
       "\n",
       "    .dataframe thead th {\n",
       "        text-align: right;\n",
       "    }\n",
       "</style>\n",
       "<table border=\"1\" class=\"dataframe\">\n",
       "  <thead>\n",
       "    <tr style=\"text-align: right;\">\n",
       "      <th></th>\n",
       "      <th>WeekStarting</th>\n",
       "      <th>Store</th>\n",
       "      <th>Brand</th>\n",
       "      <th>Quantity</th>\n",
       "      <th>Advert</th>\n",
       "      <th>Price</th>\n",
       "      <th>Revenue</th>\n",
       "      <th>DayOfWeek</th>\n",
       "      <th>Month</th>\n",
       "      <th>WeekOfYear</th>\n",
       "      <th>Year</th>\n",
       "      <th>DayOfMonth</th>\n",
       "      <th>IsMonthStart</th>\n",
       "      <th>IsMonthEnd</th>\n",
       "    </tr>\n",
       "  </thead>\n",
       "  <tbody>\n",
       "    <tr>\n",
       "      <th>0</th>\n",
       "      <td>1990-06-14</td>\n",
       "      <td>138</td>\n",
       "      <td>dominicks</td>\n",
       "      <td>15719.0</td>\n",
       "      <td>1</td>\n",
       "      <td>2.03</td>\n",
       "      <td>31909.57</td>\n",
       "      <td>3</td>\n",
       "      <td>6</td>\n",
       "      <td>24</td>\n",
       "      <td>1990</td>\n",
       "      <td>14</td>\n",
       "      <td>0</td>\n",
       "      <td>0</td>\n",
       "    </tr>\n",
       "    <tr>\n",
       "      <th>1</th>\n",
       "      <td>1990-06-14</td>\n",
       "      <td>138</td>\n",
       "      <td>minute.maid</td>\n",
       "      <td>10034.0</td>\n",
       "      <td>1</td>\n",
       "      <td>1.95</td>\n",
       "      <td>19566.30</td>\n",
       "      <td>3</td>\n",
       "      <td>6</td>\n",
       "      <td>24</td>\n",
       "      <td>1990</td>\n",
       "      <td>14</td>\n",
       "      <td>0</td>\n",
       "      <td>0</td>\n",
       "    </tr>\n",
       "    <tr>\n",
       "      <th>2</th>\n",
       "      <td>1990-06-14</td>\n",
       "      <td>138</td>\n",
       "      <td>tropicana</td>\n",
       "      <td>19455.0</td>\n",
       "      <td>1</td>\n",
       "      <td>2.54</td>\n",
       "      <td>49415.70</td>\n",
       "      <td>3</td>\n",
       "      <td>6</td>\n",
       "      <td>24</td>\n",
       "      <td>1990</td>\n",
       "      <td>14</td>\n",
       "      <td>0</td>\n",
       "      <td>0</td>\n",
       "    </tr>\n",
       "    <tr>\n",
       "      <th>3</th>\n",
       "      <td>1990-06-21</td>\n",
       "      <td>138</td>\n",
       "      <td>dominicks</td>\n",
       "      <td>9882.0</td>\n",
       "      <td>1</td>\n",
       "      <td>2.58</td>\n",
       "      <td>25495.56</td>\n",
       "      <td>3</td>\n",
       "      <td>6</td>\n",
       "      <td>25</td>\n",
       "      <td>1990</td>\n",
       "      <td>21</td>\n",
       "      <td>0</td>\n",
       "      <td>0</td>\n",
       "    </tr>\n",
       "    <tr>\n",
       "      <th>4</th>\n",
       "      <td>1990-06-21</td>\n",
       "      <td>138</td>\n",
       "      <td>minute.maid</td>\n",
       "      <td>18154.0</td>\n",
       "      <td>1</td>\n",
       "      <td>1.96</td>\n",
       "      <td>35581.84</td>\n",
       "      <td>3</td>\n",
       "      <td>6</td>\n",
       "      <td>25</td>\n",
       "      <td>1990</td>\n",
       "      <td>21</td>\n",
       "      <td>0</td>\n",
       "      <td>0</td>\n",
       "    </tr>\n",
       "  </tbody>\n",
       "</table>\n",
       "</div>"
      ],
      "text/plain": [
       "  WeekStarting  Store        Brand  Quantity  Advert  Price   Revenue  \\\n",
       "0   1990-06-14    138    dominicks   15719.0       1   2.03  31909.57   \n",
       "1   1990-06-14    138  minute.maid   10034.0       1   1.95  19566.30   \n",
       "2   1990-06-14    138    tropicana   19455.0       1   2.54  49415.70   \n",
       "3   1990-06-21    138    dominicks    9882.0       1   2.58  25495.56   \n",
       "4   1990-06-21    138  minute.maid   18154.0       1   1.96  35581.84   \n",
       "\n",
       "   DayOfWeek  Month  WeekOfYear  Year  DayOfMonth  IsMonthStart  IsMonthEnd  \n",
       "0          3      6          24  1990          14             0           0  \n",
       "1          3      6          24  1990          14             0           0  \n",
       "2          3      6          24  1990          14             0           0  \n",
       "3          3      6          25  1990          21             0           0  \n",
       "4          3      6          25  1990          21             0           0  "
      ]
     },
     "execution_count": 48,
     "metadata": {},
     "output_type": "execute_result"
    }
   ],
   "source": [
    "combined_df.head(5)"
   ]
  },
  {
   "cell_type": "code",
   "execution_count": 19,
   "id": "3d03b2cc-a5c7-4f74-96b6-2a8f9917f3bb",
   "metadata": {},
   "outputs": [
    {
     "name": "stdout",
     "output_type": "stream",
     "text": [
      "<class 'pandas.core.frame.DataFrame'>\n",
      "RangeIndex: 1448733 entries, 0 to 1448732\n",
      "Data columns (total 14 columns):\n",
      " #   Column        Non-Null Count    Dtype         \n",
      "---  ------        --------------    -----         \n",
      " 0   WeekStarting  1448733 non-null  datetime64[ns]\n",
      " 1   Store         1448733 non-null  int64         \n",
      " 2   Brand         1448733 non-null  object        \n",
      " 3   Quantity      1448733 non-null  int64         \n",
      " 4   Advert        1448733 non-null  int64         \n",
      " 5   Price         1448733 non-null  float64       \n",
      " 6   Revenue       1448733 non-null  float64       \n",
      " 7   DayOfWeek     1448733 non-null  int64         \n",
      " 8   Month         1448733 non-null  int64         \n",
      " 9   WeekOfYear    1448733 non-null  int32         \n",
      " 10  Year          1448733 non-null  int64         \n",
      " 11  DayOfMonth    1448733 non-null  int64         \n",
      " 12  IsMonthStart  1448733 non-null  int32         \n",
      " 13  IsMonthEnd    1448733 non-null  int32         \n",
      "dtypes: datetime64[ns](1), float64(2), int32(3), int64(7), object(1)\n",
      "memory usage: 138.2+ MB\n"
     ]
    }
   ],
   "source": [
    "combined_df.info()"
   ]
  },
  {
   "cell_type": "code",
   "execution_count": 49,
   "id": "b4c07657-b3a3-43e9-9566-b95bdc90c7ea",
   "metadata": {},
   "outputs": [
    {
     "name": "stdout",
     "output_type": "stream",
     "text": [
      "\n",
      "--- Creating Lag Features ---\n",
      "Created: Quantity_Lag_1W\n",
      "Created: Quantity_Lag_2W\n",
      "Created: Quantity_Lag_4W\n",
      "Created: Price_Lag_1W\n",
      "Created: Price_Lag_2W\n",
      "Created: Price_Lag_4W\n",
      "Created: Advert_Lag_1W\n",
      "Created: Advert_Lag_2W\n",
      "Created: Advert_Lag_4W\n",
      "\n",
      "--- DataFrame with new Lag Features (First few rows for one group) ---\n",
      "   WeekStarting  Store      Brand  Quantity  Advert  Price   Revenue  \\\n",
      "0    1990-06-14    138  dominicks   15719.0       1   2.03  31909.57   \n",
      "3    1990-06-21    138  dominicks    9882.0       1   2.58  25495.56   \n",
      "6    1990-06-28    138  dominicks   18214.0       1   2.47  44988.58   \n",
      "9    1990-07-05    138  dominicks   13987.0       1   2.37  33149.19   \n",
      "12   1990-07-12    138  dominicks   15735.0       1   2.68  42169.80   \n",
      "15   1990-07-19    138  dominicks   11980.0       1   2.21  26475.80   \n",
      "18   1990-07-26    138  dominicks   17059.0       1   2.21  37700.39   \n",
      "\n",
      "    DayOfWeek  Month  WeekOfYear  ...  IsMonthEnd  Quantity_Lag_1W  \\\n",
      "0           3      6          24  ...           0              NaN   \n",
      "3           3      6          25  ...           0          15719.0   \n",
      "6           3      6          26  ...           0           9882.0   \n",
      "9           3      7          27  ...           0          18214.0   \n",
      "12          3      7          28  ...           0          13987.0   \n",
      "15          3      7          29  ...           0          15735.0   \n",
      "18          3      7          30  ...           0          11980.0   \n",
      "\n",
      "    Quantity_Lag_2W  Quantity_Lag_4W  Price_Lag_1W  Price_Lag_2W  \\\n",
      "0               NaN              NaN           NaN           NaN   \n",
      "3               NaN              NaN          2.03           NaN   \n",
      "6           15719.0              NaN          2.58          2.03   \n",
      "9            9882.0              NaN          2.47          2.58   \n",
      "12          18214.0          15719.0          2.37          2.47   \n",
      "15          13987.0           9882.0          2.68          2.37   \n",
      "18          15735.0          18214.0          2.21          2.68   \n",
      "\n",
      "    Price_Lag_4W  Advert_Lag_1W  Advert_Lag_2W  Advert_Lag_4W  \n",
      "0            NaN            NaN            NaN            NaN  \n",
      "3            NaN            1.0            NaN            NaN  \n",
      "6            NaN            1.0            1.0            NaN  \n",
      "9            NaN            1.0            1.0            NaN  \n",
      "12          2.03            1.0            1.0            1.0  \n",
      "15          2.58            1.0            1.0            1.0  \n",
      "18          2.47            1.0            1.0            1.0  \n",
      "\n",
      "[7 rows x 23 columns]\n"
     ]
    }
   ],
   "source": [
    "# --- 2. Create Lag Features ---\n",
    "# Lag features are past values of a variable. They are crucial for time series forecasting\n",
    "# because the past often influences the future.\n",
    "\n",
    "# We will create lags for 'Quantity', 'Price', and 'Advertising'.\n",
    "# The chosen lags are 1 (previous week), 2 (two weeks ago), and 4 (four weeks ago/approx. last month).\n",
    "# Why 1, 2, and 4?\n",
    "# - Lag 1 & 2: Capture immediate trends and short-term memory.\n",
    "# - Lag 4: Captures a \"monthly\" cycle, assuming your data is weekly. (4 weeks = ~1 month)\n",
    "\n",
    "# We need to calculate lags SEPARATELY for each unique Store and Brand combination.\n",
    "# Otherwise, you'd get the sales of a different store/brand as a lag, which is wrong.\n",
    "# `groupby(['Store', 'Brand'])` makes sure the lag calculation stays within each group.\n",
    "# `.shift(n)` moves the data down by 'n' rows, so the current row gets the value from 'n' rows above it.\n",
    "\n",
    "lag_periods = [1, 2, 4] # The number of weeks to look back\n",
    "columns_to_lag = ['Quantity', 'Price', 'Advert'] # Columns for which we want lags\n",
    "\n",
    "print(\"\\n--- Creating Lag Features ---\")\n",
    "for col in columns_to_lag:\n",
    "    for lag in lag_periods:\n",
    "        new_col_name = f'{col}_Lag_{lag}W' # e.g., 'Quantity_Lag_1W'\n",
    "        # Group by Store and Brand to ensure lags are calculated within each series\n",
    "        combined_df[new_col_name] = combined_df.groupby(['Store', 'Brand'])[col].shift(lag)\n",
    "        print(f\"Created: {new_col_name}\")\n",
    "\n",
    "print(\"\\n--- DataFrame with new Lag Features (First few rows for one group) ---\")\n",
    "# Display head for a single store-brand combination to see lags clearly\n",
    "print(combined_df[(combined_df['Store'] == sample_store) &\n",
    "                   (combined_df['Brand'] == sample_brand)].head(7))\n",
    "\n"
   ]
  },
  {
   "cell_type": "code",
   "execution_count": 21,
   "id": "7d4ffa26-b923-4c09-a7e0-f411b0242543",
   "metadata": {},
   "outputs": [
    {
     "data": {
      "text/html": [
       "<div>\n",
       "<style scoped>\n",
       "    .dataframe tbody tr th:only-of-type {\n",
       "        vertical-align: middle;\n",
       "    }\n",
       "\n",
       "    .dataframe tbody tr th {\n",
       "        vertical-align: top;\n",
       "    }\n",
       "\n",
       "    .dataframe thead th {\n",
       "        text-align: right;\n",
       "    }\n",
       "</style>\n",
       "<table border=\"1\" class=\"dataframe\">\n",
       "  <thead>\n",
       "    <tr style=\"text-align: right;\">\n",
       "      <th></th>\n",
       "      <th>WeekStarting</th>\n",
       "      <th>Store</th>\n",
       "      <th>Brand</th>\n",
       "      <th>Quantity</th>\n",
       "      <th>Advert</th>\n",
       "      <th>Price</th>\n",
       "      <th>Revenue</th>\n",
       "      <th>DayOfWeek</th>\n",
       "      <th>Month</th>\n",
       "      <th>WeekOfYear</th>\n",
       "      <th>...</th>\n",
       "      <th>IsMonthEnd</th>\n",
       "      <th>Quantity_Lag_1W</th>\n",
       "      <th>Quantity_Lag_2W</th>\n",
       "      <th>Quantity_Lag_4W</th>\n",
       "      <th>Price_Lag_1W</th>\n",
       "      <th>Price_Lag_2W</th>\n",
       "      <th>Price_Lag_4W</th>\n",
       "      <th>Advert_Lag_1W</th>\n",
       "      <th>Advert_Lag_2W</th>\n",
       "      <th>Advert_Lag_4W</th>\n",
       "    </tr>\n",
       "  </thead>\n",
       "  <tbody>\n",
       "    <tr>\n",
       "      <th>0</th>\n",
       "      <td>1990-06-14</td>\n",
       "      <td>138</td>\n",
       "      <td>dominicks</td>\n",
       "      <td>15719</td>\n",
       "      <td>1</td>\n",
       "      <td>2.03</td>\n",
       "      <td>31909.57</td>\n",
       "      <td>3</td>\n",
       "      <td>6</td>\n",
       "      <td>24</td>\n",
       "      <td>...</td>\n",
       "      <td>0</td>\n",
       "      <td>NaN</td>\n",
       "      <td>NaN</td>\n",
       "      <td>NaN</td>\n",
       "      <td>NaN</td>\n",
       "      <td>NaN</td>\n",
       "      <td>NaN</td>\n",
       "      <td>NaN</td>\n",
       "      <td>NaN</td>\n",
       "      <td>NaN</td>\n",
       "    </tr>\n",
       "    <tr>\n",
       "      <th>1</th>\n",
       "      <td>1990-06-14</td>\n",
       "      <td>138</td>\n",
       "      <td>minute.maid</td>\n",
       "      <td>10034</td>\n",
       "      <td>1</td>\n",
       "      <td>1.95</td>\n",
       "      <td>19566.30</td>\n",
       "      <td>3</td>\n",
       "      <td>6</td>\n",
       "      <td>24</td>\n",
       "      <td>...</td>\n",
       "      <td>0</td>\n",
       "      <td>NaN</td>\n",
       "      <td>NaN</td>\n",
       "      <td>NaN</td>\n",
       "      <td>NaN</td>\n",
       "      <td>NaN</td>\n",
       "      <td>NaN</td>\n",
       "      <td>NaN</td>\n",
       "      <td>NaN</td>\n",
       "      <td>NaN</td>\n",
       "    </tr>\n",
       "    <tr>\n",
       "      <th>2</th>\n",
       "      <td>1990-06-14</td>\n",
       "      <td>138</td>\n",
       "      <td>tropicana</td>\n",
       "      <td>19455</td>\n",
       "      <td>1</td>\n",
       "      <td>2.54</td>\n",
       "      <td>49415.70</td>\n",
       "      <td>3</td>\n",
       "      <td>6</td>\n",
       "      <td>24</td>\n",
       "      <td>...</td>\n",
       "      <td>0</td>\n",
       "      <td>NaN</td>\n",
       "      <td>NaN</td>\n",
       "      <td>NaN</td>\n",
       "      <td>NaN</td>\n",
       "      <td>NaN</td>\n",
       "      <td>NaN</td>\n",
       "      <td>NaN</td>\n",
       "      <td>NaN</td>\n",
       "      <td>NaN</td>\n",
       "    </tr>\n",
       "    <tr>\n",
       "      <th>3</th>\n",
       "      <td>1990-06-21</td>\n",
       "      <td>138</td>\n",
       "      <td>dominicks</td>\n",
       "      <td>9882</td>\n",
       "      <td>1</td>\n",
       "      <td>2.58</td>\n",
       "      <td>25495.56</td>\n",
       "      <td>3</td>\n",
       "      <td>6</td>\n",
       "      <td>25</td>\n",
       "      <td>...</td>\n",
       "      <td>0</td>\n",
       "      <td>15719.0</td>\n",
       "      <td>NaN</td>\n",
       "      <td>NaN</td>\n",
       "      <td>2.03</td>\n",
       "      <td>NaN</td>\n",
       "      <td>NaN</td>\n",
       "      <td>1.0</td>\n",
       "      <td>NaN</td>\n",
       "      <td>NaN</td>\n",
       "    </tr>\n",
       "    <tr>\n",
       "      <th>4</th>\n",
       "      <td>1990-06-21</td>\n",
       "      <td>138</td>\n",
       "      <td>minute.maid</td>\n",
       "      <td>18154</td>\n",
       "      <td>1</td>\n",
       "      <td>1.96</td>\n",
       "      <td>35581.84</td>\n",
       "      <td>3</td>\n",
       "      <td>6</td>\n",
       "      <td>25</td>\n",
       "      <td>...</td>\n",
       "      <td>0</td>\n",
       "      <td>10034.0</td>\n",
       "      <td>NaN</td>\n",
       "      <td>NaN</td>\n",
       "      <td>1.95</td>\n",
       "      <td>NaN</td>\n",
       "      <td>NaN</td>\n",
       "      <td>1.0</td>\n",
       "      <td>NaN</td>\n",
       "      <td>NaN</td>\n",
       "    </tr>\n",
       "  </tbody>\n",
       "</table>\n",
       "<p>5 rows × 23 columns</p>\n",
       "</div>"
      ],
      "text/plain": [
       "  WeekStarting  Store        Brand  Quantity  Advert  Price   Revenue  \\\n",
       "0   1990-06-14    138    dominicks     15719       1   2.03  31909.57   \n",
       "1   1990-06-14    138  minute.maid     10034       1   1.95  19566.30   \n",
       "2   1990-06-14    138    tropicana     19455       1   2.54  49415.70   \n",
       "3   1990-06-21    138    dominicks      9882       1   2.58  25495.56   \n",
       "4   1990-06-21    138  minute.maid     18154       1   1.96  35581.84   \n",
       "\n",
       "   DayOfWeek  Month  WeekOfYear  ...  IsMonthEnd  Quantity_Lag_1W  \\\n",
       "0          3      6          24  ...           0              NaN   \n",
       "1          3      6          24  ...           0              NaN   \n",
       "2          3      6          24  ...           0              NaN   \n",
       "3          3      6          25  ...           0          15719.0   \n",
       "4          3      6          25  ...           0          10034.0   \n",
       "\n",
       "   Quantity_Lag_2W  Quantity_Lag_4W  Price_Lag_1W  Price_Lag_2W  Price_Lag_4W  \\\n",
       "0              NaN              NaN           NaN           NaN           NaN   \n",
       "1              NaN              NaN           NaN           NaN           NaN   \n",
       "2              NaN              NaN           NaN           NaN           NaN   \n",
       "3              NaN              NaN          2.03           NaN           NaN   \n",
       "4              NaN              NaN          1.95           NaN           NaN   \n",
       "\n",
       "   Advert_Lag_1W  Advert_Lag_2W  Advert_Lag_4W  \n",
       "0            NaN            NaN            NaN  \n",
       "1            NaN            NaN            NaN  \n",
       "2            NaN            NaN            NaN  \n",
       "3            1.0            NaN            NaN  \n",
       "4            1.0            NaN            NaN  \n",
       "\n",
       "[5 rows x 23 columns]"
      ]
     },
     "execution_count": 21,
     "metadata": {},
     "output_type": "execute_result"
    }
   ],
   "source": [
    "combined_df.head(5)"
   ]
  },
  {
   "cell_type": "code",
   "execution_count": 50,
   "id": "ac1633d3-4fb0-4b9b-906f-c0f07641be20",
   "metadata": {},
   "outputs": [
    {
     "name": "stdout",
     "output_type": "stream",
     "text": [
      "DataFrame after Feature Engineering (head with new columns):\n",
      "  WeekStarting  Store        Brand  Quantity  Advert  Price   Revenue  \\\n",
      "0   1990-06-14    138    dominicks   15719.0       1   2.03  31909.57   \n",
      "1   1990-06-14    138  minute.maid   10034.0       1   1.95  19566.30   \n",
      "2   1990-06-14    138    tropicana   19455.0       1   2.54  49415.70   \n",
      "3   1990-06-21    138    dominicks    9882.0       1   2.58  25495.56   \n",
      "4   1990-06-21    138  minute.maid   18154.0       1   1.96  35581.84   \n",
      "\n",
      "   DayOfWeek  Month  WeekOfYear  ...  IsMonthEnd  Quantity_Lag_1W  \\\n",
      "0          3      6          24  ...           0              NaN   \n",
      "1          3      6          24  ...           0              NaN   \n",
      "2          3      6          24  ...           0              NaN   \n",
      "3          3      6          25  ...           0          15719.0   \n",
      "4          3      6          25  ...           0          10034.0   \n",
      "\n",
      "   Quantity_Lag_2W  Quantity_Lag_4W  Price_Lag_1W  Price_Lag_2W  Price_Lag_4W  \\\n",
      "0              NaN              NaN           NaN           NaN           NaN   \n",
      "1              NaN              NaN           NaN           NaN           NaN   \n",
      "2              NaN              NaN           NaN           NaN           NaN   \n",
      "3              NaN              NaN          2.03           NaN           NaN   \n",
      "4              NaN              NaN          1.95           NaN           NaN   \n",
      "\n",
      "   Advert_Lag_1W  Advert_Lag_2W  Advert_Lag_4W  \n",
      "0            NaN            NaN            NaN  \n",
      "1            NaN            NaN            NaN  \n",
      "2            NaN            NaN            NaN  \n",
      "3            1.0            NaN            NaN  \n",
      "4            1.0            NaN            NaN  \n",
      "\n",
      "[5 rows x 23 columns]\n",
      "\n",
      "Check for NaNs created by lags:\n",
      "WeekStarting           0\n",
      "Store                  0\n",
      "Brand                  0\n",
      "Quantity               0\n",
      "Advert                 0\n",
      "Price                  0\n",
      "Revenue                0\n",
      "DayOfWeek              0\n",
      "Month                  0\n",
      "WeekOfYear             0\n",
      "Year                   0\n",
      "DayOfMonth             0\n",
      "IsMonthStart           0\n",
      "IsMonthEnd             0\n",
      "Quantity_Lag_1W    11973\n",
      "Quantity_Lag_2W    23946\n",
      "Quantity_Lag_4W    47892\n",
      "Price_Lag_1W       11973\n",
      "Price_Lag_2W       23946\n",
      "Price_Lag_4W       47892\n",
      "Advert_Lag_1W      11973\n",
      "Advert_Lag_2W      23946\n",
      "Advert_Lag_4W      47892\n",
      "dtype: int64\n"
     ]
    }
   ],
   "source": [
    "print(\"DataFrame after Feature Engineering (head with new columns):\")\n",
    "print(combined_df.head())\n",
    "print(\"\\nCheck for NaNs created by lags:\")\n",
    "print(combined_df.isnull().sum())"
   ]
  },
  {
   "cell_type": "code",
   "execution_count": 51,
   "id": "d279e8d1-2f25-4b0c-b330-d85bea0a5b35",
   "metadata": {},
   "outputs": [
    {
     "name": "stdout",
     "output_type": "stream",
     "text": [
      "\n",
      "--- Check for NaNs after filling Lag Features with 0 ---\n",
      "Total NaNs in lag features after filling: 0\n",
      "All lag feature NaNs filled with 0.\n",
      "\n",
      "--- DataFrame after filling NaNs (First few rows for one group) ---\n",
      "   WeekStarting  Store      Brand  Quantity  Advert  Price   Revenue  \\\n",
      "0    1990-06-14    138  dominicks   15719.0       1   2.03  31909.57   \n",
      "3    1990-06-21    138  dominicks    9882.0       1   2.58  25495.56   \n",
      "6    1990-06-28    138  dominicks   18214.0       1   2.47  44988.58   \n",
      "9    1990-07-05    138  dominicks   13987.0       1   2.37  33149.19   \n",
      "12   1990-07-12    138  dominicks   15735.0       1   2.68  42169.80   \n",
      "15   1990-07-19    138  dominicks   11980.0       1   2.21  26475.80   \n",
      "18   1990-07-26    138  dominicks   17059.0       1   2.21  37700.39   \n",
      "\n",
      "    DayOfWeek  Month  WeekOfYear  ...  IsMonthEnd  Quantity_Lag_1W  \\\n",
      "0           3      6          24  ...           0              0.0   \n",
      "3           3      6          25  ...           0          15719.0   \n",
      "6           3      6          26  ...           0           9882.0   \n",
      "9           3      7          27  ...           0          18214.0   \n",
      "12          3      7          28  ...           0          13987.0   \n",
      "15          3      7          29  ...           0          15735.0   \n",
      "18          3      7          30  ...           0          11980.0   \n",
      "\n",
      "    Quantity_Lag_2W  Quantity_Lag_4W  Price_Lag_1W  Price_Lag_2W  \\\n",
      "0               0.0              0.0          0.00          0.00   \n",
      "3               0.0              0.0          2.03          0.00   \n",
      "6           15719.0              0.0          2.58          2.03   \n",
      "9            9882.0              0.0          2.47          2.58   \n",
      "12          18214.0          15719.0          2.37          2.47   \n",
      "15          13987.0           9882.0          2.68          2.37   \n",
      "18          15735.0          18214.0          2.21          2.68   \n",
      "\n",
      "    Price_Lag_4W  Advert_Lag_1W  Advert_Lag_2W  Advert_Lag_4W  \n",
      "0           0.00            0.0            0.0            0.0  \n",
      "3           0.00            1.0            0.0            0.0  \n",
      "6           0.00            1.0            1.0            0.0  \n",
      "9           0.00            1.0            1.0            0.0  \n",
      "12          2.03            1.0            1.0            1.0  \n",
      "15          2.58            1.0            1.0            1.0  \n",
      "18          2.47            1.0            1.0            1.0  \n",
      "\n",
      "[7 rows x 23 columns]\n"
     ]
    }
   ],
   "source": [
    "# --- 3. Handle Missing Values (NaNs) created by Lag Features ---\n",
    "# The first few rows for each Store-Brand group will have NaNs for the lag features\n",
    "# because there's no data from \"the past\" to look back at.\n",
    "# For example, for 'Quantity_Lag_4W', the first 4 rows of each series will be NaN.\n",
    "\n",
    "# We will fill these NaNs with 0. This implies \"zero activity/value\" for the missing past data.\n",
    "# Get all the newly created lag feature column names\n",
    "# Get all the newly created lag feature column names\n",
    "lag_features_to_fill = [col for col in combined_df.columns if '_Lag_' in col]\n",
    "\n",
    "# Fill NaNs in ONLY these specific lag features with 0\n",
    "# NaNs in lag features typically occur at the beginning of each time series\n",
    "# where previous values do not exist.\n",
    "combined_df[lag_features_to_fill] = combined_df[lag_features_to_fill].fillna(0)\n",
    "\n",
    "print(\"\\n--- Check for NaNs after filling Lag Features with 0 ---\")\n",
    "# This should show 0 NaNs for all lag columns\n",
    "print(f\"Total NaNs in lag features after filling: {combined_df[lag_features_to_fill].isnull().sum().sum()}\")\n",
    "print(\"All lag feature NaNs filled with 0.\")\n",
    "\n",
    "print(\"\\n--- DataFrame after filling NaNs (First few rows for one group) ---\")\n",
    "print(combined_df[(combined_df['Store'] == sample_store) &\n",
    "                   (combined_df['Brand'] == sample_brand)].head(7))\n",
    "\n",
    "\n"
   ]
  },
  {
   "cell_type": "markdown",
   "id": "69cc51c2-2e50-44f8-9c24-27447e28e22f",
   "metadata": {},
   "source": [
    "# 5. Data Partition"
   ]
  },
  {
   "cell_type": "code",
   "execution_count": 52,
   "id": "6c6a723a-5c5a-4b9d-8f8e-fad9bfc85d62",
   "metadata": {},
   "outputs": [
    {
     "name": "stdout",
     "output_type": "stream",
     "text": [
      "\n",
      "--- Final List of Features (X) ---\n",
      "['Store', 'Brand', 'Advert', 'Price', 'Revenue', 'DayOfWeek', 'Month', 'WeekOfYear', 'Year', 'DayOfMonth', 'IsMonthStart', 'IsMonthEnd', 'Quantity_Lag_1W', 'Quantity_Lag_2W', 'Quantity_Lag_4W', 'Price_Lag_1W', 'Price_Lag_2W', 'Price_Lag_4W', 'Advert_Lag_1W', 'Advert_Lag_2W', 'Advert_Lag_4W']\n",
      "\n",
      "--- Categorical Features identified ---\n",
      "['Store', 'Brand', 'Year', 'Month', 'WeekOfYear', 'DayOfWeek', 'DayOfMonth', 'IsMonthStart', 'IsMonthEnd']\n"
     ]
    }
   ],
   "source": [
    "# Our target variable is 'Quantity', which we want to predict.\n",
    "target_column = 'Quantity'\n",
    "\n",
    "# Define all the columns our model will use as input (features).\n",
    "# We exclude 'WeekStarting' itself as we've extracted its components, and the 'Quantity' (target).\n",
    "# All other columns (Price, Advert, Store, Brand, and all the new _Lag_ and time-based features)\n",
    "# will be used as features.\n",
    "features = [col for col in combined_df.columns if col not in ['WeekStarting', target_column]]\n",
    "\n",
    "# Identify features that are categorical (represent distinct categories, not continuous numbers).\n",
    "# These need special handling by some models (like one-hot encoding for linear models)\n",
    "# or can be directly used as categories by others (like XGBoost).\n",
    "categorical_features = [\n",
    "    'Store', 'Brand', 'Year', 'Month', 'WeekOfYear', 'DayOfWeek',\n",
    "    'DayOfMonth', 'IsMonthStart', 'IsMonthEnd'\n",
    "]\n",
    "\n",
    "# Ensure that only columns actually present in our 'features' list are marked as categorical.\n",
    "categorical_features = [f for f in categorical_features if f in features]\n",
    "\n",
    "print(\"\\n--- Final List of Features (X) ---\")\n",
    "print(features)\n",
    "print(\"\\n--- Categorical Features identified ---\")\n",
    "print(categorical_features)\n"
   ]
  },
  {
   "cell_type": "code",
   "execution_count": 53,
   "id": "267c0d78-361a-463c-9cf0-9d901e3150fe",
   "metadata": {},
   "outputs": [],
   "source": [
    "# For time series forecasting, it's crucial to split data chronologically.\n",
    "# We train our models on older data and test them on newer, unseen data,\n",
    "# simulating a real-world forecasting scenario.\n",
    "# Find the latest date in your entire dataset.\n",
    "max_date = combined_df['WeekStarting'].max()\n",
    "\n",
    "# Determine the cutoff point for the training data.\n",
    "# Here, we're setting aside the last 18 weeks of data for testing.\n",
    "test_weeks = 18 # You can change this number (e.g., 8, 20, etc.)\n",
    "cutoff_date = max_date - timedelta(weeks=test_weeks)\n",
    "\n",
    "# Create the training and testing DataFrames based on this cutoff date.\n",
    "train_df = combined_df[combined_df['WeekStarting'] <= cutoff_date].copy()\n",
    "test_df = combined_df[combined_df['WeekStarting'] > cutoff_date].copy()\n",
    "\n",
    "# Separate features (X) and target (y) for both training and testing sets.\n",
    "X_train = train_df[features]\n",
    "y_train = train_df[target_column]\n",
    "\n",
    "X_test = test_df[features]\n",
    "y_test = test_df[target_column]\n"
   ]
  },
  {
   "cell_type": "code",
   "execution_count": 54,
   "id": "257606fc-b803-4b53-ae89-ca902f709772",
   "metadata": {},
   "outputs": [
    {
     "name": "stderr",
     "output_type": "stream",
     "text": [
      "C:\\Users\\preda\\AppData\\Local\\Temp\\ipykernel_26548\\1184486323.py:6: SettingWithCopyWarning: \n",
      "A value is trying to be set on a copy of a slice from a DataFrame.\n",
      "Try using .loc[row_indexer,col_indexer] = value instead\n",
      "\n",
      "See the caveats in the documentation: https://pandas.pydata.org/pandas-docs/stable/user_guide/indexing.html#returning-a-view-versus-a-copy\n",
      "  X_train[col] = X_train[col].astype('category')\n",
      "C:\\Users\\preda\\AppData\\Local\\Temp\\ipykernel_26548\\1184486323.py:8: SettingWithCopyWarning: \n",
      "A value is trying to be set on a copy of a slice from a DataFrame.\n",
      "Try using .loc[row_indexer,col_indexer] = value instead\n",
      "\n",
      "See the caveats in the documentation: https://pandas.pydata.org/pandas-docs/stable/user_guide/indexing.html#returning-a-view-versus-a-copy\n",
      "  X_test[col] = X_test[col].astype('category')\n",
      "C:\\Users\\preda\\AppData\\Local\\Temp\\ipykernel_26548\\1184486323.py:6: SettingWithCopyWarning: \n",
      "A value is trying to be set on a copy of a slice from a DataFrame.\n",
      "Try using .loc[row_indexer,col_indexer] = value instead\n",
      "\n",
      "See the caveats in the documentation: https://pandas.pydata.org/pandas-docs/stable/user_guide/indexing.html#returning-a-view-versus-a-copy\n",
      "  X_train[col] = X_train[col].astype('category')\n",
      "C:\\Users\\preda\\AppData\\Local\\Temp\\ipykernel_26548\\1184486323.py:8: SettingWithCopyWarning: \n",
      "A value is trying to be set on a copy of a slice from a DataFrame.\n",
      "Try using .loc[row_indexer,col_indexer] = value instead\n",
      "\n",
      "See the caveats in the documentation: https://pandas.pydata.org/pandas-docs/stable/user_guide/indexing.html#returning-a-view-versus-a-copy\n",
      "  X_test[col] = X_test[col].astype('category')\n",
      "C:\\Users\\preda\\AppData\\Local\\Temp\\ipykernel_26548\\1184486323.py:6: SettingWithCopyWarning: \n",
      "A value is trying to be set on a copy of a slice from a DataFrame.\n",
      "Try using .loc[row_indexer,col_indexer] = value instead\n",
      "\n",
      "See the caveats in the documentation: https://pandas.pydata.org/pandas-docs/stable/user_guide/indexing.html#returning-a-view-versus-a-copy\n",
      "  X_train[col] = X_train[col].astype('category')\n",
      "C:\\Users\\preda\\AppData\\Local\\Temp\\ipykernel_26548\\1184486323.py:8: SettingWithCopyWarning: \n",
      "A value is trying to be set on a copy of a slice from a DataFrame.\n",
      "Try using .loc[row_indexer,col_indexer] = value instead\n",
      "\n",
      "See the caveats in the documentation: https://pandas.pydata.org/pandas-docs/stable/user_guide/indexing.html#returning-a-view-versus-a-copy\n",
      "  X_test[col] = X_test[col].astype('category')\n",
      "C:\\Users\\preda\\AppData\\Local\\Temp\\ipykernel_26548\\1184486323.py:6: SettingWithCopyWarning: \n",
      "A value is trying to be set on a copy of a slice from a DataFrame.\n",
      "Try using .loc[row_indexer,col_indexer] = value instead\n",
      "\n",
      "See the caveats in the documentation: https://pandas.pydata.org/pandas-docs/stable/user_guide/indexing.html#returning-a-view-versus-a-copy\n",
      "  X_train[col] = X_train[col].astype('category')\n",
      "C:\\Users\\preda\\AppData\\Local\\Temp\\ipykernel_26548\\1184486323.py:8: SettingWithCopyWarning: \n",
      "A value is trying to be set on a copy of a slice from a DataFrame.\n",
      "Try using .loc[row_indexer,col_indexer] = value instead\n",
      "\n",
      "See the caveats in the documentation: https://pandas.pydata.org/pandas-docs/stable/user_guide/indexing.html#returning-a-view-versus-a-copy\n",
      "  X_test[col] = X_test[col].astype('category')\n",
      "C:\\Users\\preda\\AppData\\Local\\Temp\\ipykernel_26548\\1184486323.py:6: SettingWithCopyWarning: \n",
      "A value is trying to be set on a copy of a slice from a DataFrame.\n",
      "Try using .loc[row_indexer,col_indexer] = value instead\n",
      "\n",
      "See the caveats in the documentation: https://pandas.pydata.org/pandas-docs/stable/user_guide/indexing.html#returning-a-view-versus-a-copy\n",
      "  X_train[col] = X_train[col].astype('category')\n",
      "C:\\Users\\preda\\AppData\\Local\\Temp\\ipykernel_26548\\1184486323.py:8: SettingWithCopyWarning: \n",
      "A value is trying to be set on a copy of a slice from a DataFrame.\n",
      "Try using .loc[row_indexer,col_indexer] = value instead\n",
      "\n",
      "See the caveats in the documentation: https://pandas.pydata.org/pandas-docs/stable/user_guide/indexing.html#returning-a-view-versus-a-copy\n",
      "  X_test[col] = X_test[col].astype('category')\n"
     ]
    },
    {
     "name": "stdout",
     "output_type": "stream",
     "text": [
      "\n",
      "--- Data Split Details ---\n",
      "Training data covers dates up to: 1992-05-28\n",
      "Test data covers dates from: 1992-06-04 to 1992-10-01\n",
      "X_train shape: (1233219, 21), y_train shape: (1233219,)\n",
      "X_test shape: (215514, 21), y_test shape: (215514,)\n"
     ]
    },
    {
     "name": "stderr",
     "output_type": "stream",
     "text": [
      "C:\\Users\\preda\\AppData\\Local\\Temp\\ipykernel_26548\\1184486323.py:6: SettingWithCopyWarning: \n",
      "A value is trying to be set on a copy of a slice from a DataFrame.\n",
      "Try using .loc[row_indexer,col_indexer] = value instead\n",
      "\n",
      "See the caveats in the documentation: https://pandas.pydata.org/pandas-docs/stable/user_guide/indexing.html#returning-a-view-versus-a-copy\n",
      "  X_train[col] = X_train[col].astype('category')\n",
      "C:\\Users\\preda\\AppData\\Local\\Temp\\ipykernel_26548\\1184486323.py:8: SettingWithCopyWarning: \n",
      "A value is trying to be set on a copy of a slice from a DataFrame.\n",
      "Try using .loc[row_indexer,col_indexer] = value instead\n",
      "\n",
      "See the caveats in the documentation: https://pandas.pydata.org/pandas-docs/stable/user_guide/indexing.html#returning-a-view-versus-a-copy\n",
      "  X_test[col] = X_test[col].astype('category')\n",
      "C:\\Users\\preda\\AppData\\Local\\Temp\\ipykernel_26548\\1184486323.py:6: SettingWithCopyWarning: \n",
      "A value is trying to be set on a copy of a slice from a DataFrame.\n",
      "Try using .loc[row_indexer,col_indexer] = value instead\n",
      "\n",
      "See the caveats in the documentation: https://pandas.pydata.org/pandas-docs/stable/user_guide/indexing.html#returning-a-view-versus-a-copy\n",
      "  X_train[col] = X_train[col].astype('category')\n",
      "C:\\Users\\preda\\AppData\\Local\\Temp\\ipykernel_26548\\1184486323.py:8: SettingWithCopyWarning: \n",
      "A value is trying to be set on a copy of a slice from a DataFrame.\n",
      "Try using .loc[row_indexer,col_indexer] = value instead\n",
      "\n",
      "See the caveats in the documentation: https://pandas.pydata.org/pandas-docs/stable/user_guide/indexing.html#returning-a-view-versus-a-copy\n",
      "  X_test[col] = X_test[col].astype('category')\n",
      "C:\\Users\\preda\\AppData\\Local\\Temp\\ipykernel_26548\\1184486323.py:6: SettingWithCopyWarning: \n",
      "A value is trying to be set on a copy of a slice from a DataFrame.\n",
      "Try using .loc[row_indexer,col_indexer] = value instead\n",
      "\n",
      "See the caveats in the documentation: https://pandas.pydata.org/pandas-docs/stable/user_guide/indexing.html#returning-a-view-versus-a-copy\n",
      "  X_train[col] = X_train[col].astype('category')\n",
      "C:\\Users\\preda\\AppData\\Local\\Temp\\ipykernel_26548\\1184486323.py:8: SettingWithCopyWarning: \n",
      "A value is trying to be set on a copy of a slice from a DataFrame.\n",
      "Try using .loc[row_indexer,col_indexer] = value instead\n",
      "\n",
      "See the caveats in the documentation: https://pandas.pydata.org/pandas-docs/stable/user_guide/indexing.html#returning-a-view-versus-a-copy\n",
      "  X_test[col] = X_test[col].astype('category')\n",
      "C:\\Users\\preda\\AppData\\Local\\Temp\\ipykernel_26548\\1184486323.py:6: SettingWithCopyWarning: \n",
      "A value is trying to be set on a copy of a slice from a DataFrame.\n",
      "Try using .loc[row_indexer,col_indexer] = value instead\n",
      "\n",
      "See the caveats in the documentation: https://pandas.pydata.org/pandas-docs/stable/user_guide/indexing.html#returning-a-view-versus-a-copy\n",
      "  X_train[col] = X_train[col].astype('category')\n",
      "C:\\Users\\preda\\AppData\\Local\\Temp\\ipykernel_26548\\1184486323.py:8: SettingWithCopyWarning: \n",
      "A value is trying to be set on a copy of a slice from a DataFrame.\n",
      "Try using .loc[row_indexer,col_indexer] = value instead\n",
      "\n",
      "See the caveats in the documentation: https://pandas.pydata.org/pandas-docs/stable/user_guide/indexing.html#returning-a-view-versus-a-copy\n",
      "  X_test[col] = X_test[col].astype('category')\n"
     ]
    }
   ],
   "source": [
    "# Convert categorical columns in X_train and X_test to 'category' dtype.\n",
    "# This helps tree-based models like XGBoost/LightGBM use these features efficiently.\n",
    "# For linear models like ElasticNet, these will be One-Hot Encoded later.\n",
    "for col in categorical_features:\n",
    "    if col in X_train.columns: # Check if column exists before conversion\n",
    "        X_train[col] = X_train[col].astype('category')\n",
    "    if col in X_test.columns: # Check if column exists before conversion\n",
    "        X_test[col] = X_test[col].astype('category')\n",
    "\n",
    "print(f\"\\n--- Data Split Details ---\")\n",
    "print(f\"Training data covers dates up to: {cutoff_date.date()}\")\n",
    "print(f\"Test data covers dates from: {(cutoff_date + timedelta(weeks=1)).date()} to {max_date.date()}\")\n",
    "print(f\"X_train shape: {X_train.shape}, y_train shape: {y_train.shape}\")\n",
    "print(f\"X_test shape: {X_test.shape}, y_test shape: {y_test.shape}\")\n"
   ]
  },
  {
   "cell_type": "markdown",
   "id": "a1e07111-5792-4f30-b40a-f724f8878a9f",
   "metadata": {},
   "source": [
    "# 6. Data Normalization"
   ]
  },
  {
   "cell_type": "markdown",
   "id": "d3f0eb52-020d-4c83-87d5-95f1f8a0aa30",
   "metadata": {},
   "source": [
    "* The necessity of normalization depends on the type of machine learning model you use:\n",
    "\n",
    "*  For **Tree-based Models** (like XGBRegressor):\n",
    "*   Normalization is **NOT necessary**. Tree-based models work by making decisions based on thresholds (e.g., \"Is Price > 1.5?\"). The absolute scale of the numbers doesn't affect these decisions, only their relative order.\n",
    "\n",
    "* - For **Linear Models** (like ElasticNet):\n",
    "*   Normalization is **HIGHLY recommended and often NECESSARY**. Linear models (and other models sensitive to feature scales, like SVMs or K-Nearest Neighbors) are affected by the magnitude of feature values. If one feature has values from 0-1000 and another from 0-1, the larger-scaled feature will dominate the distance calculations or coefficient values, leading to suboptimal performance or convergence issues. `MinMaxScaler` rescales features to a specific range (e.g., 0 to 1).\n",
    "\n",
    "* - For **Statistical Time Series Models** (like Naive, SeasonalNaive, AutoARIMA from StatsForecast):\n",
    "*   These models typically work directly with the time series values themselves and their underlying statistical properties (mean, variance, correlations). They **do not usually require or benefit from feature scaling** in the same way ML models do. They primarily operate on the target variable's series.\n",
    "\n",
    "#### CONCLUSION for YOUR Models:\n",
    "* - You **do NOT need** to scale features for Naive, SeasonalNaive, AutoARIMA, or XGBRegressor.\n",
    "* - You **WILL need** to scale features (and one-hot encode categorical features) specifically for **ElasticNet**.\n"
   ]
  },
  {
   "cell_type": "code",
   "execution_count": 27,
   "id": "bd792215-4589-4b24-ad05-825db26c7c4b",
   "metadata": {},
   "outputs": [
    {
     "name": "stdout",
     "output_type": "stream",
     "text": [
      "\n",
      "--- Normalization Strategy ---\n",
      "MinMaxScaler (and OneHotEncoder for categories) will be prepared for the ElasticNet model.\n",
      "For Naive, SeasonalNaive, AutoARIMA, and XGBRegressor, scaling is generally not required.\n"
     ]
    }
   ],
   "source": [
    "print(\"\\n--- Normalization Strategy ---\")\n",
    "print(\"MinMaxScaler (and OneHotEncoder for categories) will be prepared for the ElasticNet model.\")\n",
    "print(\"For Naive, SeasonalNaive, AutoARIMA, and XGBRegressor, scaling is generally not required.\")\n"
   ]
  },
  {
   "cell_type": "code",
   "execution_count": 55,
   "id": "bcf02387-02e6-41e6-9427-fcb056454546",
   "metadata": {},
   "outputs": [
    {
     "name": "stdout",
     "output_type": "stream",
     "text": [
      "Features targeted for MinMaxScaler: \n",
      "['Advert', 'Price', 'Revenue', 'Quantity_Lag_1W', 'Quantity_Lag_2W', 'Quantity_Lag_4W', 'Price_Lag_1W', 'Price_Lag_2W', 'Price_Lag_4W', 'Advert_Lag_1W', 'Advert_Lag_2W', 'Advert_Lag_4W']\n",
      "Features targeted for OneHotEncoder: \n",
      "['Store', 'Brand', 'Year', 'Month', 'WeekOfYear', 'DayOfWeek', 'DayOfMonth', 'IsMonthStart', 'IsMonthEnd']\n",
      "\n",
      "'preprocessor_for_elasticnet' is now defined and ready to be used with the ElasticNet model.\n",
      "You would apply this preprocessor to X_train and X_test just before training ElasticNet.\n"
     ]
    }
   ],
   "source": [
    "\n",
    "# To prepare for ElasticNet, we'll create a preprocessor:\n",
    "# This preprocessor will:\n",
    "# 1. Apply MinMaxScaler to all numerical features.\n",
    "# 2. Apply OneHotEncoder to all categorical features.\n",
    "# This ensures all features are on a comparable scale and in a suitable format for linear models.\n",
    "# First, separate numerical and categorical feature names that are actually in X_train/X_test\n",
    "numerical_cols_for_scaling = X_train.select_dtypes(include=np.number).columns.tolist()\n",
    "categorical_cols_for_encoding = [col for col in categorical_features if col in X_train.columns]\n",
    "\n",
    "preprocessor_for_elasticnet = ColumnTransformer(\n",
    "    transformers=[\n",
    "        # Apply MinMaxScaler to numerical columns\n",
    "        ('num_scaler', MinMaxScaler(), numerical_cols_for_scaling),\n",
    "        # Apply OneHotEncoder to categorical columns (ignore unseen categories in test set)\n",
    "        ('cat_encoder', OneHotEncoder(handle_unknown='ignore'), categorical_cols_for_encoding)\n",
    "    ],\n",
    "    remainder='passthrough' # Keep any other columns that are not transformed (should be none here)\n",
    ")\n",
    "\n",
    "print(f\"Features targeted for MinMaxScaler: \\n{numerical_cols_for_scaling}\")\n",
    "print(f\"Features targeted for OneHotEncoder: \\n{categorical_cols_for_encoding}\")\n",
    "print(\"\\n'preprocessor_for_elasticnet' is now defined and ready to be used with the ElasticNet model.\")\n",
    "print(\"You would apply this preprocessor to X_train and X_test just before training ElasticNet.\")\n"
   ]
  },
  {
   "cell_type": "markdown",
   "id": "61f9510d-f170-40c9-8664-fa5e60252ce7",
   "metadata": {},
   "source": [
    "# 7. Model Initialization"
   ]
  },
  {
   "cell_type": "markdown",
   "id": "65a16c16-b099-4aad-84a0-cd6b14fc6c9c",
   "metadata": {},
   "source": [
    "### Elastic Net"
   ]
  },
  {
   "cell_type": "code",
   "execution_count": 56,
   "id": "eab4c28c-6b3b-48c8-b388-be3df796b690",
   "metadata": {},
   "outputs": [
    {
     "name": "stdout",
     "output_type": "stream",
     "text": [
      "Initialized: ElasticNet Model (within a Pipeline with preprocessor)\n"
     ]
    }
   ],
   "source": [
    "\n",
    "elasticnet_model = Pipeline(steps=[\n",
    "    # Step 1: 'preprocessor' applies scaling to numerical features and one-hot encoding to categorical features.\n",
    "    ('preprocessor', preprocessor_for_elasticnet),\n",
    "    # Step 2: 'regressor' is the actual ElasticNet model, which now receives properly prepared data.\n",
    "    ('regressor', ElasticNet(random_state=33)) # random_state for reproducibility\n",
    "])\n",
    "print(\"Initialized: ElasticNet Model (within a Pipeline with preprocessor)\")\n"
   ]
  },
  {
   "cell_type": "markdown",
   "id": "983be99c-acca-4c36-8496-ff825944422f",
   "metadata": {},
   "source": [
    "### XGBRegressor"
   ]
  },
  {
   "cell_type": "code",
   "execution_count": 57,
   "id": "ffe614aa-eb60-4de8-b339-08a4e32fcdb5",
   "metadata": {},
   "outputs": [
    {
     "name": "stdout",
     "output_type": "stream",
     "text": [
      "Initialized: XGBoost Regressor\n"
     ]
    }
   ],
   "source": [
    "xgboost_model = XGBRegressor(\n",
    "    objective='reg:squarederror', # This tells XGBoost to optimize for squared errors (common for regression)\n",
    "    n_estimators=1000,           # The maximum number of boosting rounds (trees) to build. More trees can mean better accuracy but also more time.\n",
    "    learning_rate=0.05,          # Controls the step size at each boosting iteration. Smaller values mean slower learning but can lead to better models.\n",
    "    eval_metric='mae',           # Mean Absolute Error, used for evaluation during training (e.g., for early stopping).\n",
    "    n_jobs=-1,                   # Uses all available CPU cores to speed up training.\n",
    "    random_state=9               # Ensures that if you run the code multiple times, you get the same results (for reproducibility).\n",
    ")\n",
    "print(\"Initialized: XGBoost Regressor\")\n"
   ]
  },
  {
   "cell_type": "markdown",
   "id": "2128e69b-3d46-4eed-acc1-86e5058795fe",
   "metadata": {},
   "source": [
    "### AutoARIMA"
   ]
  },
  {
   "cell_type": "code",
   "execution_count": 58,
   "id": "c5584acf-9ca4-4d0b-8b7c-568953be77b2",
   "metadata": {},
   "outputs": [
    {
     "name": "stdout",
     "output_type": "stream",
     "text": [
      "Initialized: AutoARIMA Model (season_length=52)\n"
     ]
    }
   ],
   "source": [
    "auto_arima_model = AutoARIMA(season_length=52)\n",
    "print(\"Initialized: AutoARIMA Model (season_length=52)\")"
   ]
  },
  {
   "cell_type": "markdown",
   "id": "11d3b5f2-84e1-4d3a-8be4-d21e87e5419d",
   "metadata": {},
   "source": [
    "### Seasonal Naive"
   ]
  },
  {
   "cell_type": "code",
   "execution_count": 59,
   "id": "ce894c85-1d3a-4856-a09a-7615c71f7efc",
   "metadata": {},
   "outputs": [
    {
     "name": "stdout",
     "output_type": "stream",
     "text": [
      "Initialized: Seasonal Naive Model (season_length=52)\n"
     ]
    }
   ],
   "source": [
    "seasonal_naive_model = SeasonalNaive(season_length=52)\n",
    "print(\"Initialized: Seasonal Naive Model (season_length=52)\")"
   ]
  },
  {
   "cell_type": "markdown",
   "id": "083fb93f-2f63-4371-8b07-3dacb9d7a2fb",
   "metadata": {},
   "source": [
    "### Naive "
   ]
  },
  {
   "cell_type": "code",
   "execution_count": 60,
   "id": "16c40515-3968-4c02-a56c-5f8d6b13a533",
   "metadata": {},
   "outputs": [
    {
     "name": "stdout",
     "output_type": "stream",
     "text": [
      "Initialized: Naive Model\n",
      "\n",
      "--- All models initialized and organized! ---\n"
     ]
    }
   ],
   "source": [
    "naive_model = Naive()\n",
    "print(\"Initialized: Naive Model\")\n",
    "print(\"\\n--- All models initialized and organized! ---\")\n"
   ]
  },
  {
   "cell_type": "code",
   "execution_count": 61,
   "id": "08e6a8a2-3b8e-4f42-a01b-1df8b8b47572",
   "metadata": {},
   "outputs": [
    {
     "name": "stdout",
     "output_type": "stream",
     "text": [
      "\n",
      "Models dictionary created with the following models:\n",
      "['Naive', 'SeasonalNaive', 'AutoARIMA', 'XGBRegressor', 'ElasticNet']\n"
     ]
    }
   ],
   "source": [
    "\n",
    "# We can store all our initialized models in a dictionary for easy access and iteration later.\n",
    "models = {\n",
    "    \"Naive\": naive_model,\n",
    "    \"SeasonalNaive\": seasonal_naive_model,\n",
    "    \"AutoARIMA\": auto_arima_model,\n",
    "    \"XGBRegressor\": xgboost_model,\n",
    "    \"ElasticNet\": elasticnet_model\n",
    "}\n",
    "\n",
    "print(\"\\nModels dictionary created with the following models:\")\n",
    "print(list(models.keys()))"
   ]
  },
  {
   "cell_type": "code",
   "execution_count": 35,
   "id": "b9c55a0f-3988-4387-985d-399b547ce447",
   "metadata": {},
   "outputs": [],
   "source": [
    "# This object handles scaling numerical features and one-hot encoding categorical features,\n",
    "# which is crucial for models like ElasticNet.\n",
    "\n",
    "# print(\"--- Initializing Forecasting Models ---\")\n",
    "\n",
    "# --- 1. StatsForecast Models (Naive, SeasonalNaive, AutoARIMA) ---\n",
    "# They are designed to work directly with time series data (your 'Quantity' values over time)\n",
    "# and don't typically take external features (like your lag columns or date parts) in the same way\n",
    "# that machine learning models (like XGBoost or ElasticNet) do during their main 'fit' step.\n",
    "# When we train them later, we'll give them a specific time series format ('unique_id', 'ds', 'y').\n",
    "\n",
    "# Naive Model:\n",
    "# This is the simplest model. It just predicts that the next value will be the same as the last observed value.\n",
    "# (e.g., if sales yesterday were 100, it predicts 100 for today).\n",
    "\n",
    "\n",
    "# Seasonal Naive Model:\n",
    "# This model predicts that the next value will be the same as the value from the *same season* in the previous period.\n",
    "# For example, if your data is weekly and you expect yearly seasonality, a 'season_length' of 52 would mean\n",
    "# it predicts this week's sales to be the same as sales from the same week last year.\n",
    "# We'll use 52 for our weekly data, assuming a yearly pattern.\n",
    "\n",
    "# AutoARIMA Model:\n",
    "# This model automatically searches for the best parameters for an ARIMA (AutoRegressive Integrated Moving Average) model.\n",
    "# ARIMA models are powerful statistical models for time series. 'Auto' means it tries to find the best fit itself.\n",
    "# We also provide a 'season_length' if we expect seasonal patterns (like yearly patterns in weekly data).\n",
    "\n",
    "\n",
    "# --- 2. XGBoost Regressor Model ---\n",
    "# XGBoost is a highly effective machine learning model. It builds many \"decision trees\" sequentially\n",
    "# and learns from the errors of previous trees.\n",
    "# Key point: XGBoost (and other tree-based models) do NOT require feature scaling/normalization.\n",
    "\n",
    "# --- 3. ElasticNet Model ---\n",
    "# ElasticNet is a type of linear regression model. It combines two regularization techniques (Lasso and Ridge)\n",
    "# to prevent overfitting and improve model stability.\n",
    "# Key point: Linear models like ElasticNet are sensitive to the scale of your features.\n",
    "# This means if 'Price' is 0-10 and 'Advertising_Lag_1W' is 0-10000, 'Advertising_Lag_1W' might unfairly dominate.\n",
    "# Therefore, we MUST use our 'preprocessor_for_elasticnet' (defined in the previous code block)\n",
    "# to scale numerical features and convert categorical features into numerical form (one-hot encoding)\n",
    "# BEFORE feeding them to the ElasticNet regressor.\n",
    "# We use a Scikit-learn Pipeline to chain these steps together seamlessly.\n",
    "\n"
   ]
  },
  {
   "cell_type": "markdown",
   "id": "77d990e4-d655-4250-abd2-46dd352b3bb1",
   "metadata": {},
   "source": [
    "# 8. Model Training"
   ]
  },
  {
   "cell_type": "markdown",
   "id": "328a498b-0f59-4133-943b-b18fb0ce447a",
   "metadata": {},
   "source": [
    "### 8.1 ForeCasting Models"
   ]
  },
  {
   "cell_type": "code",
   "execution_count": 65,
   "id": "f21cf81e-3c8b-4e76-ab37-6324c5401fe5",
   "metadata": {},
   "outputs": [
    {
     "name": "stdout",
     "output_type": "stream",
     "text": [
      "Applying final robust numeric conversion to 'train_sf_df['y']'...\n",
      "'train_sf_df['y']' column is now explicitly numeric (float32).\n"
     ]
    }
   ],
   "source": [
    "\n",
    "# Create the specific DataFrame needed by StatsForecast\n",
    "train_sf_df = train_df[['Store', 'Brand', 'WeekStarting', 'Quantity']].copy()\n",
    "\n",
    "# Combine Store and Brand into a single 'unique_id' for each distinct series\n",
    "train_sf_df['unique_id'] = train_sf_df['Store'].astype(str) + '_' + train_sf_df['Brand'].astype(str)\n",
    "\n",
    "# Rename columns to 'ds' and 'y' as StatsForecast expects\n",
    "train_sf_df = train_sf_df.rename(columns={'WeekStarting': 'ds', 'Quantity': 'y'})\n",
    "\n",
    "# Ensure 'ds' is datetime and 'unique_id' is string type as required\n",
    "train_sf_df['ds'] = pd.to_datetime(train_sf_df['ds'])\n",
    "train_sf_df['unique_id'] = train_sf_df['unique_id'].astype(str)\n",
    "\n",
    "# --- NEW: Robust cleaning for 'y' column in train_sf_df immediately before StatsForecast fit ---\n",
    "print(\"Applying final robust numeric conversion to 'train_sf_df['y']'...\")\n",
    "train_sf_df['y'] = pd.to_numeric(train_sf_df['y'], errors='coerce')\n",
    "train_sf_df['y'] = train_sf_df['y'].fillna(0).astype(np.float32)\n",
    "print(\"'train_sf_df['y']' column is now explicitly numeric (float32).\")\n",
    "# --- END NEW ---\n"
   ]
  },
  {
   "cell_type": "code",
   "execution_count": 66,
   "id": "a84d82db-30b2-44c8-a3ce-199fc7d31250",
   "metadata": {},
   "outputs": [
    {
     "name": "stdout",
     "output_type": "stream",
     "text": [
      "\n",
      "Training Naive, SeasonalNaive, and AutoARIMA models...\n"
     ]
    }
   ],
   "source": [
    "print(\"\\nTraining Naive, SeasonalNaive, and AutoARIMA models...\")\n",
    "sf = StatsForecast(\n",
    "    models=[models[\"Naive\"], models[\"SeasonalNaive\"], models[\"AutoARIMA\"]],\n",
    "    freq='W',    # Set the frequency of your data: 'W' for weekly. This is crucial for seasonal models.\n",
    "    n_jobs=-1,   # Use all available CPU cores for faster training across multiple series.\n",
    "    verbose=True # Set to True for more detailed output during fitting.\n",
    ")"
   ]
  },
  {
   "cell_type": "code",
   "execution_count": 67,
   "id": "aafc9a51-853d-4400-aec4-035c7656a047",
   "metadata": {},
   "outputs": [
    {
     "ename": "ValueError",
     "evalue": "could not convert string to float: 'dominicks'",
     "output_type": "error",
     "traceback": [
      "\u001b[1;31m---------------------------------------------------------------------------\u001b[0m",
      "\u001b[1;31mValueError\u001b[0m                                Traceback (most recent call last)",
      "Cell \u001b[1;32mIn[67], line 2\u001b[0m\n\u001b[0;32m      1\u001b[0m \u001b[38;5;66;03m# Fit all the defined StatsForecast models to the prepared training data.\u001b[39;00m\n\u001b[1;32m----> 2\u001b[0m \u001b[43msf\u001b[49m\u001b[38;5;241;43m.\u001b[39;49m\u001b[43mfit\u001b[49m\u001b[43m(\u001b[49m\u001b[43mtrain_sf_df\u001b[49m\u001b[43m)\u001b[49m\n\u001b[0;32m      3\u001b[0m \u001b[38;5;28mprint\u001b[39m(\u001b[38;5;124m\"\u001b[39m\u001b[38;5;124mStatsForecast Models Training Complete!\u001b[39m\u001b[38;5;124m\"\u001b[39m)\n",
      "File \u001b[1;32m~\\.conda\\envs\\azuredp100\\lib\\site-packages\\statsforecast\\core.py:659\u001b[0m, in \u001b[0;36m_StatsForecast.fit\u001b[1;34m(self, df, prediction_intervals, id_col, time_col, target_col)\u001b[0m\n\u001b[0;32m    633\u001b[0m \u001b[38;5;28;01mdef\u001b[39;00m\u001b[38;5;250m \u001b[39m\u001b[38;5;21mfit\u001b[39m(\n\u001b[0;32m    634\u001b[0m     \u001b[38;5;28mself\u001b[39m,\n\u001b[0;32m    635\u001b[0m     df: DataFrame,\n\u001b[1;32m   (...)\u001b[0m\n\u001b[0;32m    639\u001b[0m     target_col: \u001b[38;5;28mstr\u001b[39m \u001b[38;5;241m=\u001b[39m \u001b[38;5;124m\"\u001b[39m\u001b[38;5;124my\u001b[39m\u001b[38;5;124m\"\u001b[39m,\n\u001b[0;32m    640\u001b[0m ):\n\u001b[0;32m    641\u001b[0m \u001b[38;5;250m    \u001b[39m\u001b[38;5;124;03m\"\"\"Fit statistical models.\u001b[39;00m\n\u001b[0;32m    642\u001b[0m \n\u001b[0;32m    643\u001b[0m \u001b[38;5;124;03m    Fit `models` to a large set of time series from DataFrame `df`\u001b[39;00m\n\u001b[1;32m   (...)\u001b[0m\n\u001b[0;32m    657\u001b[0m \u001b[38;5;124;03m        Returns with stored `StatsForecast` fitted `models`.\u001b[39;00m\n\u001b[0;32m    658\u001b[0m \u001b[38;5;124;03m    \"\"\"\u001b[39;00m\n\u001b[1;32m--> 659\u001b[0m     \u001b[38;5;28;43mself\u001b[39;49m\u001b[38;5;241;43m.\u001b[39;49m\u001b[43m_prepare_fit\u001b[49m\u001b[43m(\u001b[49m\n\u001b[0;32m    660\u001b[0m \u001b[43m        \u001b[49m\u001b[43mdf\u001b[49m\u001b[38;5;241;43m=\u001b[39;49m\u001b[43mdf\u001b[49m\u001b[43m,\u001b[49m\u001b[43m \u001b[49m\u001b[43mid_col\u001b[49m\u001b[38;5;241;43m=\u001b[39;49m\u001b[43mid_col\u001b[49m\u001b[43m,\u001b[49m\u001b[43m \u001b[49m\u001b[43mtime_col\u001b[49m\u001b[38;5;241;43m=\u001b[39;49m\u001b[43mtime_col\u001b[49m\u001b[43m,\u001b[49m\u001b[43m \u001b[49m\u001b[43mtarget_col\u001b[49m\u001b[38;5;241;43m=\u001b[39;49m\u001b[43mtarget_col\u001b[49m\n\u001b[0;32m    661\u001b[0m \u001b[43m    \u001b[49m\u001b[43m)\u001b[49m\n\u001b[0;32m    662\u001b[0m     \u001b[38;5;28mself\u001b[39m\u001b[38;5;241m.\u001b[39m_validate_sizes_for_prediction_intervals(prediction_intervals)\n\u001b[0;32m    663\u001b[0m     \u001b[38;5;28mself\u001b[39m\u001b[38;5;241m.\u001b[39m_set_prediction_intervals(prediction_intervals\u001b[38;5;241m=\u001b[39mprediction_intervals)\n",
      "File \u001b[1;32m~\\.conda\\envs\\azuredp100\\lib\\site-packages\\statsforecast\\core.py:584\u001b[0m, in \u001b[0;36m_StatsForecast._prepare_fit\u001b[1;34m(self, df, id_col, time_col, target_col)\u001b[0m\n\u001b[0;32m    582\u001b[0m df \u001b[38;5;241m=\u001b[39m ensure_time_dtype(df, time_col)\n\u001b[0;32m    583\u001b[0m validate_freq(df[time_col], \u001b[38;5;28mself\u001b[39m\u001b[38;5;241m.\u001b[39mfreq)\n\u001b[1;32m--> 584\u001b[0m \u001b[38;5;28mself\u001b[39m\u001b[38;5;241m.\u001b[39muids, last_times, data, indptr, sort_idxs \u001b[38;5;241m=\u001b[39m \u001b[43mufp\u001b[49m\u001b[38;5;241;43m.\u001b[39;49m\u001b[43mprocess_df\u001b[49m\u001b[43m(\u001b[49m\n\u001b[0;32m    585\u001b[0m \u001b[43m    \u001b[49m\u001b[43mdf\u001b[49m\u001b[43m,\u001b[49m\u001b[43m \u001b[49m\u001b[43mid_col\u001b[49m\u001b[43m,\u001b[49m\u001b[43m \u001b[49m\u001b[43mtime_col\u001b[49m\u001b[43m,\u001b[49m\u001b[43m \u001b[49m\u001b[43mtarget_col\u001b[49m\n\u001b[0;32m    586\u001b[0m \u001b[43m\u001b[49m\u001b[43m)\u001b[49m\n\u001b[0;32m    587\u001b[0m \u001b[38;5;28;01mif\u001b[39;00m \u001b[38;5;28misinstance\u001b[39m(df, pd\u001b[38;5;241m.\u001b[39mDataFrame):\n\u001b[0;32m    588\u001b[0m     \u001b[38;5;28mself\u001b[39m\u001b[38;5;241m.\u001b[39mlast_dates \u001b[38;5;241m=\u001b[39m pd\u001b[38;5;241m.\u001b[39mIndex(last_times, name\u001b[38;5;241m=\u001b[39mtime_col)\n",
      "File \u001b[1;32m~\\.conda\\envs\\azuredp100\\lib\\site-packages\\utilsforecast\\processing.py:698\u001b[0m, in \u001b[0;36mprocess_df\u001b[1;34m(df, id_col, time_col, target_col)\u001b[0m\n\u001b[0;32m    695\u001b[0m last_idxs \u001b[38;5;241m=\u001b[39m indptr[\u001b[38;5;241m1\u001b[39m:] \u001b[38;5;241m-\u001b[39m \u001b[38;5;241m1\u001b[39m\n\u001b[0;32m    697\u001b[0m \u001b[38;5;66;03m# data\u001b[39;00m\n\u001b[1;32m--> 698\u001b[0m data \u001b[38;5;241m=\u001b[39m \u001b[43mvalue_cols_to_numpy\u001b[49m\u001b[43m(\u001b[49m\u001b[43mdf\u001b[49m\u001b[43m,\u001b[49m\u001b[43m \u001b[49m\u001b[43mid_col\u001b[49m\u001b[43m,\u001b[49m\u001b[43m \u001b[49m\u001b[43mtime_col\u001b[49m\u001b[43m,\u001b[49m\u001b[43m \u001b[49m\u001b[43mtarget_col\u001b[49m\u001b[43m)\u001b[49m\n\u001b[0;32m    700\u001b[0m \u001b[38;5;66;03m# check if we need to sort\u001b[39;00m\n\u001b[0;32m    701\u001b[0m sort_idxs \u001b[38;5;241m=\u001b[39m maybe_compute_sort_indices(df, id_col, time_col)\n",
      "File \u001b[1;32m~\\.conda\\envs\\azuredp100\\lib\\site-packages\\utilsforecast\\processing.py:603\u001b[0m, in \u001b[0;36mvalue_cols_to_numpy\u001b[1;34m(df, id_col, time_col, target_col)\u001b[0m\n\u001b[0;32m    601\u001b[0m data \u001b[38;5;241m=\u001b[39m to_numpy(df[value_cols])\n\u001b[0;32m    602\u001b[0m \u001b[38;5;28;01mif\u001b[39;00m data\u001b[38;5;241m.\u001b[39mdtype \u001b[38;5;129;01mnot\u001b[39;00m \u001b[38;5;129;01min\u001b[39;00m (np\u001b[38;5;241m.\u001b[39mfloat32, np\u001b[38;5;241m.\u001b[39mfloat64):\n\u001b[1;32m--> 603\u001b[0m     data \u001b[38;5;241m=\u001b[39m \u001b[43mdata\u001b[49m\u001b[38;5;241;43m.\u001b[39;49m\u001b[43mastype\u001b[49m\u001b[43m(\u001b[49m\u001b[43mnp\u001b[49m\u001b[38;5;241;43m.\u001b[39;49m\u001b[43mfloat32\u001b[49m\u001b[43m)\u001b[49m\n\u001b[0;32m    604\u001b[0m \u001b[38;5;28;01mreturn\u001b[39;00m data\n",
      "\u001b[1;31mValueError\u001b[0m: could not convert string to float: 'dominicks'"
     ]
    }
   ],
   "source": [
    "\n",
    "# Fit all the defined StatsForecast models to the prepared training data.\n",
    "sf.fit(train_sf_df)\n",
    "print(\"StatsForecast Models Training Complete!\")\n"
   ]
  },
  {
   "cell_type": "code",
   "execution_count": null,
   "id": "d928e33a-adb6-4caf-ad0b-946d2410f340",
   "metadata": {},
   "outputs": [],
   "source": [
    "\n",
    "# --- Saving StatsForecast Models ---\n",
    "# With StatsForecast, you typically save the 'StatsForecast' object itself.\n",
    "# This object contains the fitted versions of all the models it managed.\n",
    "joblib.dump(sf, '..\\models\\statsforecast_fitted_models.pkl')\n",
    "print(\"Saved Naive, SeasonalNaive, AutoARIMA models as 'statsforecast_fitted_models.pkl'\")\n"
   ]
  },
  {
   "cell_type": "markdown",
   "id": "a6d36b9c-c850-41dd-9dcd-f6bebd9a8542",
   "metadata": {},
   "source": [
    "### 8.2 XGBRegressor"
   ]
  },
  {
   "cell_type": "code",
   "execution_count": null,
   "id": "f4e25f35-6c6c-4f09-9a8d-af0e13df20e8",
   "metadata": {},
   "outputs": [],
   "source": [
    "# XGBoost is a powerful machine learning model that takes features (X) and target (y).\n",
    "# It can directly handle Pandas categorical dtypes if specified.\n",
    "print(\"\\nTraining XGBoost Regressor...\")\n",
    "xgboost_model = models[\"XGBRegressor\"] # Get the initialized model\n"
   ]
  },
  {
   "cell_type": "code",
   "execution_count": null,
   "id": "116058c6-4e8e-42e3-b283-8ac790d4ffeb",
   "metadata": {},
   "outputs": [],
   "source": [
    "xgboost_model.fit(X_train, y_train,\n",
    "                  # eval_set: Allows monitoring performance on the test set during training.\n",
    "                  eval_set=[(X_test, y_test)],\n",
    "                  eval_metric='mae', # Metric to show during evaluation (Mean Absolute Error).\n",
    "                  # callbacks: Used for early stopping to prevent overfitting and save time.\n",
    "                  # If performance on eval_set doesn't improve for 50 rounds, training stops.\n",
    "                  callbacks=[xgb.callback.EarlyStopping(rounds=50, verbose=False)],\n",
    "                 )\n",
    "print(\"XGBoost Regressor Training Complete!\")"
   ]
  },
  {
   "cell_type": "code",
   "execution_count": null,
   "id": "4cae5d50-0eb8-44f9-a940-066546985ec9",
   "metadata": {},
   "outputs": [],
   "source": [
    "# --- Saving XGBoost Model ---\n",
    "joblib.dump(xgboost_model, '..\\models\\xgboost_model.pkl')\n",
    "print(\"Saved XGBoost Regressor as 'xgboost_model.pkl'\")\n"
   ]
  },
  {
   "cell_type": "markdown",
   "id": "38fdf305-695d-491b-9ac6-38bddb4fa36c",
   "metadata": {},
   "source": [
    "### 8.3 ElasticNet"
   ]
  },
  {
   "cell_type": "code",
   "execution_count": null,
   "id": "4556bf93-5c76-49ac-b60a-2539cb07f205",
   "metadata": {},
   "outputs": [],
   "source": [
    "print(\"\\nTraining ElasticNet Model...\")\n",
    "elasticnet_model = models[\"ElasticNet\"] # Get the initialized Pipeline"
   ]
  },
  {
   "cell_type": "code",
   "execution_count": null,
   "id": "282327bc-fe27-4e74-8a0a-b290e9a2fdcf",
   "metadata": {},
   "outputs": [],
   "source": [
    "elasticnet_model.fit(X_train, y_train)\n",
    "print(\"ElasticNet Model Training Complete!\")\n"
   ]
  },
  {
   "cell_type": "code",
   "execution_count": null,
   "id": "40597613-9536-44ad-acbc-95d69ec8c744",
   "metadata": {},
   "outputs": [],
   "source": [
    "# Save the entire Pipeline, as it includes the preprocessor and the regressor.\n",
    "joblib.dump(elasticnet_model, '..\\models\\elasticnet_model.pkl')\n",
    "print(\"Saved ElasticNet Model (Pipeline) as 'elasticnet_model.pkl'\")\n",
    "\n",
    "print(\"\\n--- All specified models trained and saved successfully! ---\")"
   ]
  },
  {
   "cell_type": "markdown",
   "id": "32fa8a8a-21ec-4e37-ad66-e92b199c2f7f",
   "metadata": {},
   "source": [
    "# 9. Model Metrics Final outputs"
   ]
  },
  {
   "cell_type": "code",
   "execution_count": null,
   "id": "0a98449f-182a-4356-96f6-6c8682b8369b",
   "metadata": {},
   "outputs": [],
   "source": []
  }
 ],
 "metadata": {
  "kernelspec": {
   "display_name": "Python 3 (ipykernel)",
   "language": "python",
   "name": "python3"
  },
  "language_info": {
   "codemirror_mode": {
    "name": "ipython",
    "version": 3
   },
   "file_extension": ".py",
   "mimetype": "text/x-python",
   "name": "python",
   "nbconvert_exporter": "python",
   "pygments_lexer": "ipython3",
   "version": "3.10.18"
  }
 },
 "nbformat": 4,
 "nbformat_minor": 5
}
